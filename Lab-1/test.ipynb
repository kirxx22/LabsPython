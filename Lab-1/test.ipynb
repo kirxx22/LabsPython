{
 "cells": [
  {
   "cell_type": "markdown",
   "metadata": {},
   "source": [
    "# Лабораторная работа № 1\n",
    "## Вариант № 4\n",
    "\n",
    "_Таблица № 1._\n",
    "| **Вариант** | **Страна** | **Узор** | **Функция** | **Условие** |\n",
    "| --- | --- | --- | --- | --- |\n",
    "| 4 | Польша | d | y = x ^ 0.5 | Среднее по модулю первых 125 и вторых 125 чисел |\n",
    "\n",
    "### Задание № 1\n",
    "Сгенерировать при помощи escape-символов в консоли изображение флага, соответственно варианту (столбец \"Страна\").\n"
   ]
  },
  {
   "cell_type": "code",
   "execution_count": 54,
   "metadata": {},
   "outputs": [
    {
     "name": "stdout",
     "output_type": "stream",
     "text": [
      "\u001b[47m                \u001b[0m\n",
      "\u001b[47m                \u001b[0m\n",
      "\u001b[47m                \u001b[0m\n",
      "\u001b[41m                \u001b[0m\n",
      "\u001b[41m                \u001b[0m\n",
      "\u001b[41m                \u001b[0m\n"
     ]
    }
   ],
   "source": [
    "# Константы\n",
    "RED = '\\u001b[41m'\n",
    "WHITE = '\\u001b[47m'\n",
    "BLACK = '\\033[40m'\n",
    "END = '\\u001b[0m'\n",
    "\n",
    "for i in range(6):\n",
    "    if i < 3:\n",
    "        print(f\"{WHITE}{' ' * 16}{END}\")\n",
    "    else:\n",
    "        print(f\"{RED}{' ' * 16}{END}\")"
   ]
  },
  {
   "cell_type": "markdown",
   "metadata": {},
   "source": [
    "### Задание № 2\n",
    "Сгенерировать в консоли повторяющийся узор (столбец \"Узор\").\n",
    "\n",
    "![Узор](lab2patterns.png)"
   ]
  },
  {
   "cell_type": "code",
   "execution_count": 60,
   "metadata": {},
   "outputs": [
    {
     "name": "stdout",
     "output_type": "stream",
     "text": [
      "\u001b[40m  \u001b[0m\u001b[40m  \u001b[0m\u001b[40m  \u001b[0m\u001b[40m  \u001b[0m\u001b[40m  \u001b[0m\u001b[40m  \u001b[0m\u001b[40m  \u001b[0m\u001b[40m  \u001b[0m\u001b[40m  \u001b[0m\u001b[40m  \u001b[0m\n",
      "\u001b[40m  \u001b[0m\u001b[40m  \u001b[0m\u001b[40m  \u001b[0m\u001b[40m  \u001b[0m\u001b[40m  \u001b[0m\u001b[40m  \u001b[0m\u001b[40m  \u001b[0m\u001b[40m  \u001b[0m\u001b[40m  \u001b[0m\u001b[40m  \u001b[0m\n",
      "\u001b[47m  \u001b[0m\u001b[47m  \u001b[0m\u001b[47m  \u001b[0m\u001b[47m  \u001b[0m\u001b[40m  \u001b[0m\u001b[40m  \u001b[0m\u001b[47m  \u001b[0m\u001b[47m  \u001b[0m\u001b[47m  \u001b[0m\u001b[47m  \u001b[0m\n",
      "\u001b[47m  \u001b[0m\u001b[47m  \u001b[0m\u001b[47m  \u001b[0m\u001b[47m  \u001b[0m\u001b[40m  \u001b[0m\u001b[40m  \u001b[0m\u001b[47m  \u001b[0m\u001b[47m  \u001b[0m\u001b[47m  \u001b[0m\u001b[47m  \u001b[0m\n",
      "\u001b[40m  \u001b[0m\u001b[40m  \u001b[0m\u001b[40m  \u001b[0m\u001b[40m  \u001b[0m\u001b[40m  \u001b[0m\u001b[40m  \u001b[0m\u001b[40m  \u001b[0m\u001b[40m  \u001b[0m\u001b[40m  \u001b[0m\u001b[40m  \u001b[0m\n",
      "\u001b[40m  \u001b[0m\u001b[40m  \u001b[0m\u001b[40m  \u001b[0m\u001b[40m  \u001b[0m\u001b[40m  \u001b[0m\u001b[40m  \u001b[0m\u001b[40m  \u001b[0m\u001b[40m  \u001b[0m\u001b[40m  \u001b[0m\u001b[40m  \u001b[0m\n",
      "\u001b[47m  \u001b[0m\u001b[40m  \u001b[0m\u001b[40m  \u001b[0m\u001b[47m  \u001b[0m\u001b[47m  \u001b[0m\u001b[47m  \u001b[0m\u001b[47m  \u001b[0m\u001b[40m  \u001b[0m\u001b[40m  \u001b[0m\u001b[47m  \u001b[0m\n",
      "\u001b[47m  \u001b[0m\u001b[40m  \u001b[0m\u001b[40m  \u001b[0m\u001b[47m  \u001b[0m\u001b[47m  \u001b[0m\u001b[47m  \u001b[0m\u001b[47m  \u001b[0m\u001b[40m  \u001b[0m\u001b[40m  \u001b[0m\u001b[47m  \u001b[0m\n",
      "\u001b[40m  \u001b[0m\u001b[40m  \u001b[0m\u001b[40m  \u001b[0m\u001b[40m  \u001b[0m\u001b[40m  \u001b[0m\u001b[40m  \u001b[0m\u001b[40m  \u001b[0m\u001b[40m  \u001b[0m\u001b[40m  \u001b[0m\u001b[40m  \u001b[0m\n",
      "\u001b[40m  \u001b[0m\u001b[40m  \u001b[0m\u001b[40m  \u001b[0m\u001b[40m  \u001b[0m\u001b[40m  \u001b[0m\u001b[40m  \u001b[0m\u001b[40m  \u001b[0m\u001b[40m  \u001b[0m\u001b[40m  \u001b[0m\u001b[40m  \u001b[0m\n"
     ]
    }
   ],
   "source": [
    "def make_image(mat: list[list[int]]) -> str:\n",
    "    return '\\n'.join([''.join(map(str, row)) for row in mat])\n",
    "\n",
    "plot_list = [[0 for i in range(10)] for i in range(10)]\n",
    "exist = f'{BLACK}  {END}'\n",
    "not_exist = f'{WHITE}  {END}'\n",
    "\n",
    "for i in range(10):\n",
    "    if i in (0, 1, 4, 5, 8, 9):\n",
    "        plot_list[i] = [exist for i in range(10)]\n",
    "    elif i in (2, 3):\n",
    "        plot_list[i] = [not_exist for _ in range(4)] + [exist]\n",
    "        plot_list[i] =  plot_list[i] + plot_list[i][::-1]\n",
    "    else:\n",
    "        plot_list[i] = [not_exist, exist, exist, not_exist, not_exist]\n",
    "        plot_list[i] = plot_list[i] + plot_list[i][::-1]\n",
    "\n",
    "print(make_image(plot_list))"
   ]
  },
  {
   "cell_type": "code",
   "execution_count": 64,
   "metadata": {},
   "outputs": [
    {
     "name": "stdout",
     "output_type": "stream",
     "text": [
      "\u001b[H\u001b[2J\u001b[40m  \u001b[0m\u001b[40m  \u001b[0m\u001b[40m  \u001b[0m\u001b[40m  \u001b[0m\u001b[40m  \u001b[0m\u001b[40m  \u001b[0m\u001b[40m  \u001b[0m\u001b[40m  \u001b[0m\u001b[40m  \u001b[0m\u001b[40m  \u001b[0m\n",
      "\u001b[47m  \u001b[0m\u001b[47m  \u001b[0m\u001b[47m  \u001b[0m\u001b[47m  \u001b[0m\u001b[40m  \u001b[0m\u001b[40m  \u001b[0m\u001b[47m  \u001b[0m\u001b[47m  \u001b[0m\u001b[47m  \u001b[0m\u001b[47m  \u001b[0m\n",
      "\u001b[47m  \u001b[0m\u001b[47m  \u001b[0m\u001b[47m  \u001b[0m\u001b[47m  \u001b[0m\u001b[40m  \u001b[0m\u001b[40m  \u001b[0m\u001b[47m  \u001b[0m\u001b[47m  \u001b[0m\u001b[47m  \u001b[0m\u001b[47m  \u001b[0m\n",
      "\u001b[40m  \u001b[0m\u001b[40m  \u001b[0m\u001b[40m  \u001b[0m\u001b[40m  \u001b[0m\u001b[40m  \u001b[0m\u001b[40m  \u001b[0m\u001b[40m  \u001b[0m\u001b[40m  \u001b[0m\u001b[40m  \u001b[0m\u001b[40m  \u001b[0m\n",
      "\u001b[40m  \u001b[0m\u001b[40m  \u001b[0m\u001b[40m  \u001b[0m\u001b[40m  \u001b[0m\u001b[40m  \u001b[0m\u001b[40m  \u001b[0m\u001b[40m  \u001b[0m\u001b[40m  \u001b[0m\u001b[40m  \u001b[0m\u001b[40m  \u001b[0m\n",
      "\u001b[47m  \u001b[0m\u001b[40m  \u001b[0m\u001b[40m  \u001b[0m\u001b[47m  \u001b[0m\u001b[47m  \u001b[0m\u001b[47m  \u001b[0m\u001b[47m  \u001b[0m\u001b[40m  \u001b[0m\u001b[40m  \u001b[0m\u001b[47m  \u001b[0m\n",
      "\u001b[47m  \u001b[0m\u001b[40m  \u001b[0m\u001b[40m  \u001b[0m\u001b[47m  \u001b[0m\u001b[47m  \u001b[0m\u001b[47m  \u001b[0m\u001b[47m  \u001b[0m\u001b[40m  \u001b[0m\u001b[40m  \u001b[0m\u001b[47m  \u001b[0m\n",
      "\u001b[40m  \u001b[0m\u001b[40m  \u001b[0m\u001b[40m  \u001b[0m\u001b[40m  \u001b[0m\u001b[40m  \u001b[0m\u001b[40m  \u001b[0m\u001b[40m  \u001b[0m\u001b[40m  \u001b[0m\u001b[40m  \u001b[0m\u001b[40m  \u001b[0m\n",
      "\u001b[H\u001b[2J\u001b[40m  \u001b[0m\u001b[40m  \u001b[0m\u001b[40m  \u001b[0m\u001b[40m  \u001b[0m\u001b[40m  \u001b[0m\u001b[40m  \u001b[0m\u001b[40m  \u001b[0m\u001b[40m  \u001b[0m\u001b[40m  \u001b[0m\u001b[40m  \u001b[0m\n",
      "\u001b[47m  \u001b[0m\u001b[40m  \u001b[0m\u001b[40m  \u001b[0m\u001b[47m  \u001b[0m\u001b[47m  \u001b[0m\u001b[47m  \u001b[0m\u001b[47m  \u001b[0m\u001b[40m  \u001b[0m\u001b[40m  \u001b[0m\u001b[47m  \u001b[0m\n",
      "\u001b[47m  \u001b[0m\u001b[40m  \u001b[0m\u001b[40m  \u001b[0m\u001b[47m  \u001b[0m\u001b[47m  \u001b[0m\u001b[47m  \u001b[0m\u001b[47m  \u001b[0m\u001b[40m  \u001b[0m\u001b[40m  \u001b[0m\u001b[47m  \u001b[0m\n",
      "\u001b[40m  \u001b[0m\u001b[40m  \u001b[0m\u001b[40m  \u001b[0m\u001b[40m  \u001b[0m\u001b[40m  \u001b[0m\u001b[40m  \u001b[0m\u001b[40m  \u001b[0m\u001b[40m  \u001b[0m\u001b[40m  \u001b[0m\u001b[40m  \u001b[0m\n",
      "\u001b[40m  \u001b[0m\u001b[40m  \u001b[0m\u001b[40m  \u001b[0m\u001b[40m  \u001b[0m\u001b[40m  \u001b[0m\u001b[40m  \u001b[0m\u001b[40m  \u001b[0m\u001b[40m  \u001b[0m\u001b[40m  \u001b[0m\u001b[40m  \u001b[0m\n",
      "\u001b[47m  \u001b[0m\u001b[47m  \u001b[0m\u001b[47m  \u001b[0m\u001b[47m  \u001b[0m\u001b[40m  \u001b[0m\u001b[40m  \u001b[0m\u001b[47m  \u001b[0m\u001b[47m  \u001b[0m\u001b[47m  \u001b[0m\u001b[47m  \u001b[0m\n",
      "\u001b[47m  \u001b[0m\u001b[47m  \u001b[0m\u001b[47m  \u001b[0m\u001b[47m  \u001b[0m\u001b[40m  \u001b[0m\u001b[40m  \u001b[0m\u001b[47m  \u001b[0m\u001b[47m  \u001b[0m\u001b[47m  \u001b[0m\u001b[47m  \u001b[0m\n",
      "\u001b[40m  \u001b[0m\u001b[40m  \u001b[0m\u001b[40m  \u001b[0m\u001b[40m  \u001b[0m\u001b[40m  \u001b[0m\u001b[40m  \u001b[0m\u001b[40m  \u001b[0m\u001b[40m  \u001b[0m\u001b[40m  \u001b[0m\u001b[40m  \u001b[0m\n",
      "\u001b[H\u001b[2J\u001b[40m  \u001b[0m\u001b[40m  \u001b[0m\u001b[40m  \u001b[0m\u001b[40m  \u001b[0m\u001b[40m  \u001b[0m\u001b[40m  \u001b[0m\u001b[40m  \u001b[0m\u001b[40m  \u001b[0m\u001b[40m  \u001b[0m\u001b[40m  \u001b[0m\n",
      "\u001b[47m  \u001b[0m\u001b[47m  \u001b[0m\u001b[47m  \u001b[0m\u001b[47m  \u001b[0m\u001b[40m  \u001b[0m\u001b[40m  \u001b[0m\u001b[47m  \u001b[0m\u001b[47m  \u001b[0m\u001b[47m  \u001b[0m\u001b[47m  \u001b[0m\n",
      "\u001b[47m  \u001b[0m\u001b[47m  \u001b[0m\u001b[47m  \u001b[0m\u001b[47m  \u001b[0m\u001b[40m  \u001b[0m\u001b[40m  \u001b[0m\u001b[47m  \u001b[0m\u001b[47m  \u001b[0m\u001b[47m  \u001b[0m\u001b[47m  \u001b[0m\n",
      "\u001b[40m  \u001b[0m\u001b[40m  \u001b[0m\u001b[40m  \u001b[0m\u001b[40m  \u001b[0m\u001b[40m  \u001b[0m\u001b[40m  \u001b[0m\u001b[40m  \u001b[0m\u001b[40m  \u001b[0m\u001b[40m  \u001b[0m\u001b[40m  \u001b[0m\n",
      "\u001b[40m  \u001b[0m\u001b[40m  \u001b[0m\u001b[40m  \u001b[0m\u001b[40m  \u001b[0m\u001b[40m  \u001b[0m\u001b[40m  \u001b[0m\u001b[40m  \u001b[0m\u001b[40m  \u001b[0m\u001b[40m  \u001b[0m\u001b[40m  \u001b[0m\n",
      "\u001b[47m  \u001b[0m\u001b[40m  \u001b[0m\u001b[40m  \u001b[0m\u001b[47m  \u001b[0m\u001b[47m  \u001b[0m\u001b[47m  \u001b[0m\u001b[47m  \u001b[0m\u001b[40m  \u001b[0m\u001b[40m  \u001b[0m\u001b[47m  \u001b[0m\n",
      "\u001b[47m  \u001b[0m\u001b[40m  \u001b[0m\u001b[40m  \u001b[0m\u001b[47m  \u001b[0m\u001b[47m  \u001b[0m\u001b[47m  \u001b[0m\u001b[47m  \u001b[0m\u001b[40m  \u001b[0m\u001b[40m  \u001b[0m\u001b[47m  \u001b[0m\n",
      "\u001b[40m  \u001b[0m\u001b[40m  \u001b[0m\u001b[40m  \u001b[0m\u001b[40m  \u001b[0m\u001b[40m  \u001b[0m\u001b[40m  \u001b[0m\u001b[40m  \u001b[0m\u001b[40m  \u001b[0m\u001b[40m  \u001b[0m\u001b[40m  \u001b[0m\n",
      "\u001b[H\u001b[2J\u001b[40m  \u001b[0m\u001b[40m  \u001b[0m\u001b[40m  \u001b[0m\u001b[40m  \u001b[0m\u001b[40m  \u001b[0m\u001b[40m  \u001b[0m\u001b[40m  \u001b[0m\u001b[40m  \u001b[0m\u001b[40m  \u001b[0m\u001b[40m  \u001b[0m\n",
      "\u001b[47m  \u001b[0m\u001b[40m  \u001b[0m\u001b[40m  \u001b[0m\u001b[47m  \u001b[0m\u001b[47m  \u001b[0m\u001b[47m  \u001b[0m\u001b[47m  \u001b[0m\u001b[40m  \u001b[0m\u001b[40m  \u001b[0m\u001b[47m  \u001b[0m\n",
      "\u001b[47m  \u001b[0m\u001b[40m  \u001b[0m\u001b[40m  \u001b[0m\u001b[47m  \u001b[0m\u001b[47m  \u001b[0m\u001b[47m  \u001b[0m\u001b[47m  \u001b[0m\u001b[40m  \u001b[0m\u001b[40m  \u001b[0m\u001b[47m  \u001b[0m\n",
      "\u001b[40m  \u001b[0m\u001b[40m  \u001b[0m\u001b[40m  \u001b[0m\u001b[40m  \u001b[0m\u001b[40m  \u001b[0m\u001b[40m  \u001b[0m\u001b[40m  \u001b[0m\u001b[40m  \u001b[0m\u001b[40m  \u001b[0m\u001b[40m  \u001b[0m\n",
      "\u001b[40m  \u001b[0m\u001b[40m  \u001b[0m\u001b[40m  \u001b[0m\u001b[40m  \u001b[0m\u001b[40m  \u001b[0m\u001b[40m  \u001b[0m\u001b[40m  \u001b[0m\u001b[40m  \u001b[0m\u001b[40m  \u001b[0m\u001b[40m  \u001b[0m\n",
      "\u001b[47m  \u001b[0m\u001b[47m  \u001b[0m\u001b[47m  \u001b[0m\u001b[47m  \u001b[0m\u001b[40m  \u001b[0m\u001b[40m  \u001b[0m\u001b[47m  \u001b[0m\u001b[47m  \u001b[0m\u001b[47m  \u001b[0m\u001b[47m  \u001b[0m\n",
      "\u001b[47m  \u001b[0m\u001b[47m  \u001b[0m\u001b[47m  \u001b[0m\u001b[47m  \u001b[0m\u001b[40m  \u001b[0m\u001b[40m  \u001b[0m\u001b[47m  \u001b[0m\u001b[47m  \u001b[0m\u001b[47m  \u001b[0m\u001b[47m  \u001b[0m\n",
      "\u001b[40m  \u001b[0m\u001b[40m  \u001b[0m\u001b[40m  \u001b[0m\u001b[40m  \u001b[0m\u001b[40m  \u001b[0m\u001b[40m  \u001b[0m\u001b[40m  \u001b[0m\u001b[40m  \u001b[0m\u001b[40m  \u001b[0m\u001b[40m  \u001b[0m\n",
      "\u001b[H\u001b[2J\u001b[40m  \u001b[0m\u001b[40m  \u001b[0m\u001b[40m  \u001b[0m\u001b[40m  \u001b[0m\u001b[40m  \u001b[0m\u001b[40m  \u001b[0m\u001b[40m  \u001b[0m\u001b[40m  \u001b[0m\u001b[40m  \u001b[0m\u001b[40m  \u001b[0m\n",
      "\u001b[47m  \u001b[0m\u001b[47m  \u001b[0m\u001b[47m  \u001b[0m\u001b[47m  \u001b[0m\u001b[40m  \u001b[0m\u001b[40m  \u001b[0m\u001b[47m  \u001b[0m\u001b[47m  \u001b[0m\u001b[47m  \u001b[0m\u001b[47m  \u001b[0m\n",
      "\u001b[47m  \u001b[0m\u001b[47m  \u001b[0m\u001b[47m  \u001b[0m\u001b[47m  \u001b[0m\u001b[40m  \u001b[0m\u001b[40m  \u001b[0m\u001b[47m  \u001b[0m\u001b[47m  \u001b[0m\u001b[47m  \u001b[0m\u001b[47m  \u001b[0m\n",
      "\u001b[40m  \u001b[0m\u001b[40m  \u001b[0m\u001b[40m  \u001b[0m\u001b[40m  \u001b[0m\u001b[40m  \u001b[0m\u001b[40m  \u001b[0m\u001b[40m  \u001b[0m\u001b[40m  \u001b[0m\u001b[40m  \u001b[0m\u001b[40m  \u001b[0m\n",
      "\u001b[40m  \u001b[0m\u001b[40m  \u001b[0m\u001b[40m  \u001b[0m\u001b[40m  \u001b[0m\u001b[40m  \u001b[0m\u001b[40m  \u001b[0m\u001b[40m  \u001b[0m\u001b[40m  \u001b[0m\u001b[40m  \u001b[0m\u001b[40m  \u001b[0m\n",
      "\u001b[47m  \u001b[0m\u001b[40m  \u001b[0m\u001b[40m  \u001b[0m\u001b[47m  \u001b[0m\u001b[47m  \u001b[0m\u001b[47m  \u001b[0m\u001b[47m  \u001b[0m\u001b[40m  \u001b[0m\u001b[40m  \u001b[0m\u001b[47m  \u001b[0m\n",
      "\u001b[47m  \u001b[0m\u001b[40m  \u001b[0m\u001b[40m  \u001b[0m\u001b[47m  \u001b[0m\u001b[47m  \u001b[0m\u001b[47m  \u001b[0m\u001b[47m  \u001b[0m\u001b[40m  \u001b[0m\u001b[40m  \u001b[0m\u001b[47m  \u001b[0m\n",
      "\u001b[40m  \u001b[0m\u001b[40m  \u001b[0m\u001b[40m  \u001b[0m\u001b[40m  \u001b[0m\u001b[40m  \u001b[0m\u001b[40m  \u001b[0m\u001b[40m  \u001b[0m\u001b[40m  \u001b[0m\u001b[40m  \u001b[0m\u001b[40m  \u001b[0m\n",
      "\u001b[H\u001b[2J\u001b[40m  \u001b[0m\u001b[40m  \u001b[0m\u001b[40m  \u001b[0m\u001b[40m  \u001b[0m\u001b[40m  \u001b[0m\u001b[40m  \u001b[0m\u001b[40m  \u001b[0m\u001b[40m  \u001b[0m\u001b[40m  \u001b[0m\u001b[40m  \u001b[0m\n",
      "\u001b[47m  \u001b[0m\u001b[40m  \u001b[0m\u001b[40m  \u001b[0m\u001b[47m  \u001b[0m\u001b[47m  \u001b[0m\u001b[47m  \u001b[0m\u001b[47m  \u001b[0m\u001b[40m  \u001b[0m\u001b[40m  \u001b[0m\u001b[47m  \u001b[0m\n",
      "\u001b[47m  \u001b[0m\u001b[40m  \u001b[0m\u001b[40m  \u001b[0m\u001b[47m  \u001b[0m\u001b[47m  \u001b[0m\u001b[47m  \u001b[0m\u001b[47m  \u001b[0m\u001b[40m  \u001b[0m\u001b[40m  \u001b[0m\u001b[47m  \u001b[0m\n",
      "\u001b[40m  \u001b[0m\u001b[40m  \u001b[0m\u001b[40m  \u001b[0m\u001b[40m  \u001b[0m\u001b[40m  \u001b[0m\u001b[40m  \u001b[0m\u001b[40m  \u001b[0m\u001b[40m  \u001b[0m\u001b[40m  \u001b[0m\u001b[40m  \u001b[0m\n",
      "\u001b[40m  \u001b[0m\u001b[40m  \u001b[0m\u001b[40m  \u001b[0m\u001b[40m  \u001b[0m\u001b[40m  \u001b[0m\u001b[40m  \u001b[0m\u001b[40m  \u001b[0m\u001b[40m  \u001b[0m\u001b[40m  \u001b[0m\u001b[40m  \u001b[0m\n",
      "\u001b[47m  \u001b[0m\u001b[47m  \u001b[0m\u001b[47m  \u001b[0m\u001b[47m  \u001b[0m\u001b[40m  \u001b[0m\u001b[40m  \u001b[0m\u001b[47m  \u001b[0m\u001b[47m  \u001b[0m\u001b[47m  \u001b[0m\u001b[47m  \u001b[0m\n",
      "\u001b[47m  \u001b[0m\u001b[47m  \u001b[0m\u001b[47m  \u001b[0m\u001b[47m  \u001b[0m\u001b[40m  \u001b[0m\u001b[40m  \u001b[0m\u001b[47m  \u001b[0m\u001b[47m  \u001b[0m\u001b[47m  \u001b[0m\u001b[47m  \u001b[0m\n",
      "\u001b[40m  \u001b[0m\u001b[40m  \u001b[0m\u001b[40m  \u001b[0m\u001b[40m  \u001b[0m\u001b[40m  \u001b[0m\u001b[40m  \u001b[0m\u001b[40m  \u001b[0m\u001b[40m  \u001b[0m\u001b[40m  \u001b[0m\u001b[40m  \u001b[0m\n",
      "\u001b[H\u001b[2J\u001b[40m  \u001b[0m\u001b[40m  \u001b[0m\u001b[40m  \u001b[0m\u001b[40m  \u001b[0m\u001b[40m  \u001b[0m\u001b[40m  \u001b[0m\u001b[40m  \u001b[0m\u001b[40m  \u001b[0m\u001b[40m  \u001b[0m\u001b[40m  \u001b[0m\n",
      "\u001b[47m  \u001b[0m\u001b[47m  \u001b[0m\u001b[47m  \u001b[0m\u001b[47m  \u001b[0m\u001b[40m  \u001b[0m\u001b[40m  \u001b[0m\u001b[47m  \u001b[0m\u001b[47m  \u001b[0m\u001b[47m  \u001b[0m\u001b[47m  \u001b[0m\n",
      "\u001b[47m  \u001b[0m\u001b[47m  \u001b[0m\u001b[47m  \u001b[0m\u001b[47m  \u001b[0m\u001b[40m  \u001b[0m\u001b[40m  \u001b[0m\u001b[47m  \u001b[0m\u001b[47m  \u001b[0m\u001b[47m  \u001b[0m\u001b[47m  \u001b[0m\n",
      "\u001b[40m  \u001b[0m\u001b[40m  \u001b[0m\u001b[40m  \u001b[0m\u001b[40m  \u001b[0m\u001b[40m  \u001b[0m\u001b[40m  \u001b[0m\u001b[40m  \u001b[0m\u001b[40m  \u001b[0m\u001b[40m  \u001b[0m\u001b[40m  \u001b[0m\n",
      "\u001b[40m  \u001b[0m\u001b[40m  \u001b[0m\u001b[40m  \u001b[0m\u001b[40m  \u001b[0m\u001b[40m  \u001b[0m\u001b[40m  \u001b[0m\u001b[40m  \u001b[0m\u001b[40m  \u001b[0m\u001b[40m  \u001b[0m\u001b[40m  \u001b[0m\n",
      "\u001b[47m  \u001b[0m\u001b[40m  \u001b[0m\u001b[40m  \u001b[0m\u001b[47m  \u001b[0m\u001b[47m  \u001b[0m\u001b[47m  \u001b[0m\u001b[47m  \u001b[0m\u001b[40m  \u001b[0m\u001b[40m  \u001b[0m\u001b[47m  \u001b[0m\n",
      "\u001b[47m  \u001b[0m\u001b[40m  \u001b[0m\u001b[40m  \u001b[0m\u001b[47m  \u001b[0m\u001b[47m  \u001b[0m\u001b[47m  \u001b[0m\u001b[47m  \u001b[0m\u001b[40m  \u001b[0m\u001b[40m  \u001b[0m\u001b[47m  \u001b[0m\n",
      "\u001b[40m  \u001b[0m\u001b[40m  \u001b[0m\u001b[40m  \u001b[0m\u001b[40m  \u001b[0m\u001b[40m  \u001b[0m\u001b[40m  \u001b[0m\u001b[40m  \u001b[0m\u001b[40m  \u001b[0m\u001b[40m  \u001b[0m\u001b[40m  \u001b[0m\n",
      "\u001b[H\u001b[2J\u001b[40m  \u001b[0m\u001b[40m  \u001b[0m\u001b[40m  \u001b[0m\u001b[40m  \u001b[0m\u001b[40m  \u001b[0m\u001b[40m  \u001b[0m\u001b[40m  \u001b[0m\u001b[40m  \u001b[0m\u001b[40m  \u001b[0m\u001b[40m  \u001b[0m\n",
      "\u001b[47m  \u001b[0m\u001b[40m  \u001b[0m\u001b[40m  \u001b[0m\u001b[47m  \u001b[0m\u001b[47m  \u001b[0m\u001b[47m  \u001b[0m\u001b[47m  \u001b[0m\u001b[40m  \u001b[0m\u001b[40m  \u001b[0m\u001b[47m  \u001b[0m\n",
      "\u001b[47m  \u001b[0m\u001b[40m  \u001b[0m\u001b[40m  \u001b[0m\u001b[47m  \u001b[0m\u001b[47m  \u001b[0m\u001b[47m  \u001b[0m\u001b[47m  \u001b[0m\u001b[40m  \u001b[0m\u001b[40m  \u001b[0m\u001b[47m  \u001b[0m\n",
      "\u001b[40m  \u001b[0m\u001b[40m  \u001b[0m\u001b[40m  \u001b[0m\u001b[40m  \u001b[0m\u001b[40m  \u001b[0m\u001b[40m  \u001b[0m\u001b[40m  \u001b[0m\u001b[40m  \u001b[0m\u001b[40m  \u001b[0m\u001b[40m  \u001b[0m\n",
      "\u001b[40m  \u001b[0m\u001b[40m  \u001b[0m\u001b[40m  \u001b[0m\u001b[40m  \u001b[0m\u001b[40m  \u001b[0m\u001b[40m  \u001b[0m\u001b[40m  \u001b[0m\u001b[40m  \u001b[0m\u001b[40m  \u001b[0m\u001b[40m  \u001b[0m\n",
      "\u001b[47m  \u001b[0m\u001b[47m  \u001b[0m\u001b[47m  \u001b[0m\u001b[47m  \u001b[0m\u001b[40m  \u001b[0m\u001b[40m  \u001b[0m\u001b[47m  \u001b[0m\u001b[47m  \u001b[0m\u001b[47m  \u001b[0m\u001b[47m  \u001b[0m\n",
      "\u001b[47m  \u001b[0m\u001b[47m  \u001b[0m\u001b[47m  \u001b[0m\u001b[47m  \u001b[0m\u001b[40m  \u001b[0m\u001b[40m  \u001b[0m\u001b[47m  \u001b[0m\u001b[47m  \u001b[0m\u001b[47m  \u001b[0m\u001b[47m  \u001b[0m\n",
      "\u001b[40m  \u001b[0m\u001b[40m  \u001b[0m\u001b[40m  \u001b[0m\u001b[40m  \u001b[0m\u001b[40m  \u001b[0m\u001b[40m  \u001b[0m\u001b[40m  \u001b[0m\u001b[40m  \u001b[0m\u001b[40m  \u001b[0m\u001b[40m  \u001b[0m\n",
      "\u001b[H\u001b[2J\u001b[40m  \u001b[0m\u001b[40m  \u001b[0m\u001b[40m  \u001b[0m\u001b[40m  \u001b[0m\u001b[40m  \u001b[0m\u001b[40m  \u001b[0m\u001b[40m  \u001b[0m\u001b[40m  \u001b[0m\u001b[40m  \u001b[0m\u001b[40m  \u001b[0m\n",
      "\u001b[47m  \u001b[0m\u001b[47m  \u001b[0m\u001b[47m  \u001b[0m\u001b[47m  \u001b[0m\u001b[40m  \u001b[0m\u001b[40m  \u001b[0m\u001b[47m  \u001b[0m\u001b[47m  \u001b[0m\u001b[47m  \u001b[0m\u001b[47m  \u001b[0m\n",
      "\u001b[47m  \u001b[0m\u001b[47m  \u001b[0m\u001b[47m  \u001b[0m\u001b[47m  \u001b[0m\u001b[40m  \u001b[0m\u001b[40m  \u001b[0m\u001b[47m  \u001b[0m\u001b[47m  \u001b[0m\u001b[47m  \u001b[0m\u001b[47m  \u001b[0m\n",
      "\u001b[40m  \u001b[0m\u001b[40m  \u001b[0m\u001b[40m  \u001b[0m\u001b[40m  \u001b[0m\u001b[40m  \u001b[0m\u001b[40m  \u001b[0m\u001b[40m  \u001b[0m\u001b[40m  \u001b[0m\u001b[40m  \u001b[0m\u001b[40m  \u001b[0m\n",
      "\u001b[40m  \u001b[0m\u001b[40m  \u001b[0m\u001b[40m  \u001b[0m\u001b[40m  \u001b[0m\u001b[40m  \u001b[0m\u001b[40m  \u001b[0m\u001b[40m  \u001b[0m\u001b[40m  \u001b[0m\u001b[40m  \u001b[0m\u001b[40m  \u001b[0m\n",
      "\u001b[47m  \u001b[0m\u001b[40m  \u001b[0m\u001b[40m  \u001b[0m\u001b[47m  \u001b[0m\u001b[47m  \u001b[0m\u001b[47m  \u001b[0m\u001b[47m  \u001b[0m\u001b[40m  \u001b[0m\u001b[40m  \u001b[0m\u001b[47m  \u001b[0m\n",
      "\u001b[47m  \u001b[0m\u001b[40m  \u001b[0m\u001b[40m  \u001b[0m\u001b[47m  \u001b[0m\u001b[47m  \u001b[0m\u001b[47m  \u001b[0m\u001b[47m  \u001b[0m\u001b[40m  \u001b[0m\u001b[40m  \u001b[0m\u001b[47m  \u001b[0m\n",
      "\u001b[40m  \u001b[0m\u001b[40m  \u001b[0m\u001b[40m  \u001b[0m\u001b[40m  \u001b[0m\u001b[40m  \u001b[0m\u001b[40m  \u001b[0m\u001b[40m  \u001b[0m\u001b[40m  \u001b[0m\u001b[40m  \u001b[0m\u001b[40m  \u001b[0m\n",
      "\u001b[H\u001b[2J\u001b[40m  \u001b[0m\u001b[40m  \u001b[0m\u001b[40m  \u001b[0m\u001b[40m  \u001b[0m\u001b[40m  \u001b[0m\u001b[40m  \u001b[0m\u001b[40m  \u001b[0m\u001b[40m  \u001b[0m\u001b[40m  \u001b[0m\u001b[40m  \u001b[0m\n",
      "\u001b[47m  \u001b[0m\u001b[40m  \u001b[0m\u001b[40m  \u001b[0m\u001b[47m  \u001b[0m\u001b[47m  \u001b[0m\u001b[47m  \u001b[0m\u001b[47m  \u001b[0m\u001b[40m  \u001b[0m\u001b[40m  \u001b[0m\u001b[47m  \u001b[0m\n",
      "\u001b[47m  \u001b[0m\u001b[40m  \u001b[0m\u001b[40m  \u001b[0m\u001b[47m  \u001b[0m\u001b[47m  \u001b[0m\u001b[47m  \u001b[0m\u001b[47m  \u001b[0m\u001b[40m  \u001b[0m\u001b[40m  \u001b[0m\u001b[47m  \u001b[0m\n",
      "\u001b[40m  \u001b[0m\u001b[40m  \u001b[0m\u001b[40m  \u001b[0m\u001b[40m  \u001b[0m\u001b[40m  \u001b[0m\u001b[40m  \u001b[0m\u001b[40m  \u001b[0m\u001b[40m  \u001b[0m\u001b[40m  \u001b[0m\u001b[40m  \u001b[0m\n",
      "\u001b[40m  \u001b[0m\u001b[40m  \u001b[0m\u001b[40m  \u001b[0m\u001b[40m  \u001b[0m\u001b[40m  \u001b[0m\u001b[40m  \u001b[0m\u001b[40m  \u001b[0m\u001b[40m  \u001b[0m\u001b[40m  \u001b[0m\u001b[40m  \u001b[0m\n",
      "\u001b[47m  \u001b[0m\u001b[47m  \u001b[0m\u001b[47m  \u001b[0m\u001b[47m  \u001b[0m\u001b[40m  \u001b[0m\u001b[40m  \u001b[0m\u001b[47m  \u001b[0m\u001b[47m  \u001b[0m\u001b[47m  \u001b[0m\u001b[47m  \u001b[0m\n",
      "\u001b[47m  \u001b[0m\u001b[47m  \u001b[0m\u001b[47m  \u001b[0m\u001b[47m  \u001b[0m\u001b[40m  \u001b[0m\u001b[40m  \u001b[0m\u001b[47m  \u001b[0m\u001b[47m  \u001b[0m\u001b[47m  \u001b[0m\u001b[47m  \u001b[0m\n",
      "\u001b[40m  \u001b[0m\u001b[40m  \u001b[0m\u001b[40m  \u001b[0m\u001b[40m  \u001b[0m\u001b[40m  \u001b[0m\u001b[40m  \u001b[0m\u001b[40m  \u001b[0m\u001b[40m  \u001b[0m\u001b[40m  \u001b[0m\u001b[40m  \u001b[0m\n",
      "\u001b[H\u001b[2J\u001b[40m  \u001b[0m\u001b[40m  \u001b[0m\u001b[40m  \u001b[0m\u001b[40m  \u001b[0m\u001b[40m  \u001b[0m\u001b[40m  \u001b[0m\u001b[40m  \u001b[0m\u001b[40m  \u001b[0m\u001b[40m  \u001b[0m\u001b[40m  \u001b[0m\n",
      "\u001b[47m  \u001b[0m\u001b[47m  \u001b[0m\u001b[47m  \u001b[0m\u001b[47m  \u001b[0m\u001b[40m  \u001b[0m\u001b[40m  \u001b[0m\u001b[47m  \u001b[0m\u001b[47m  \u001b[0m\u001b[47m  \u001b[0m\u001b[47m  \u001b[0m\n",
      "\u001b[47m  \u001b[0m\u001b[47m  \u001b[0m\u001b[47m  \u001b[0m\u001b[47m  \u001b[0m\u001b[40m  \u001b[0m\u001b[40m  \u001b[0m\u001b[47m  \u001b[0m\u001b[47m  \u001b[0m\u001b[47m  \u001b[0m\u001b[47m  \u001b[0m\n",
      "\u001b[40m  \u001b[0m\u001b[40m  \u001b[0m\u001b[40m  \u001b[0m\u001b[40m  \u001b[0m\u001b[40m  \u001b[0m\u001b[40m  \u001b[0m\u001b[40m  \u001b[0m\u001b[40m  \u001b[0m\u001b[40m  \u001b[0m\u001b[40m  \u001b[0m\n",
      "\u001b[40m  \u001b[0m\u001b[40m  \u001b[0m\u001b[40m  \u001b[0m\u001b[40m  \u001b[0m\u001b[40m  \u001b[0m\u001b[40m  \u001b[0m\u001b[40m  \u001b[0m\u001b[40m  \u001b[0m\u001b[40m  \u001b[0m\u001b[40m  \u001b[0m\n",
      "\u001b[47m  \u001b[0m\u001b[40m  \u001b[0m\u001b[40m  \u001b[0m\u001b[47m  \u001b[0m\u001b[47m  \u001b[0m\u001b[47m  \u001b[0m\u001b[47m  \u001b[0m\u001b[40m  \u001b[0m\u001b[40m  \u001b[0m\u001b[47m  \u001b[0m\n",
      "\u001b[47m  \u001b[0m\u001b[40m  \u001b[0m\u001b[40m  \u001b[0m\u001b[47m  \u001b[0m\u001b[47m  \u001b[0m\u001b[47m  \u001b[0m\u001b[47m  \u001b[0m\u001b[40m  \u001b[0m\u001b[40m  \u001b[0m\u001b[47m  \u001b[0m\n",
      "\u001b[40m  \u001b[0m\u001b[40m  \u001b[0m\u001b[40m  \u001b[0m\u001b[40m  \u001b[0m\u001b[40m  \u001b[0m\u001b[40m  \u001b[0m\u001b[40m  \u001b[0m\u001b[40m  \u001b[0m\u001b[40m  \u001b[0m\u001b[40m  \u001b[0m\n",
      "\u001b[H\u001b[2J\u001b[40m  \u001b[0m\u001b[40m  \u001b[0m\u001b[40m  \u001b[0m\u001b[40m  \u001b[0m\u001b[40m  \u001b[0m\u001b[40m  \u001b[0m\u001b[40m  \u001b[0m\u001b[40m  \u001b[0m\u001b[40m  \u001b[0m\u001b[40m  \u001b[0m\n",
      "\u001b[47m  \u001b[0m\u001b[40m  \u001b[0m\u001b[40m  \u001b[0m\u001b[47m  \u001b[0m\u001b[47m  \u001b[0m\u001b[47m  \u001b[0m\u001b[47m  \u001b[0m\u001b[40m  \u001b[0m\u001b[40m  \u001b[0m\u001b[47m  \u001b[0m\n",
      "\u001b[47m  \u001b[0m\u001b[40m  \u001b[0m\u001b[40m  \u001b[0m\u001b[47m  \u001b[0m\u001b[47m  \u001b[0m\u001b[47m  \u001b[0m\u001b[47m  \u001b[0m\u001b[40m  \u001b[0m\u001b[40m  \u001b[0m\u001b[47m  \u001b[0m\n",
      "\u001b[40m  \u001b[0m\u001b[40m  \u001b[0m\u001b[40m  \u001b[0m\u001b[40m  \u001b[0m\u001b[40m  \u001b[0m\u001b[40m  \u001b[0m\u001b[40m  \u001b[0m\u001b[40m  \u001b[0m\u001b[40m  \u001b[0m\u001b[40m  \u001b[0m\n",
      "\u001b[40m  \u001b[0m\u001b[40m  \u001b[0m\u001b[40m  \u001b[0m\u001b[40m  \u001b[0m\u001b[40m  \u001b[0m\u001b[40m  \u001b[0m\u001b[40m  \u001b[0m\u001b[40m  \u001b[0m\u001b[40m  \u001b[0m\u001b[40m  \u001b[0m\n",
      "\u001b[47m  \u001b[0m\u001b[47m  \u001b[0m\u001b[47m  \u001b[0m\u001b[47m  \u001b[0m\u001b[40m  \u001b[0m\u001b[40m  \u001b[0m\u001b[47m  \u001b[0m\u001b[47m  \u001b[0m\u001b[47m  \u001b[0m\u001b[47m  \u001b[0m\n",
      "\u001b[47m  \u001b[0m\u001b[47m  \u001b[0m\u001b[47m  \u001b[0m\u001b[47m  \u001b[0m\u001b[40m  \u001b[0m\u001b[40m  \u001b[0m\u001b[47m  \u001b[0m\u001b[47m  \u001b[0m\u001b[47m  \u001b[0m\u001b[47m  \u001b[0m\n",
      "\u001b[40m  \u001b[0m\u001b[40m  \u001b[0m\u001b[40m  \u001b[0m\u001b[40m  \u001b[0m\u001b[40m  \u001b[0m\u001b[40m  \u001b[0m\u001b[40m  \u001b[0m\u001b[40m  \u001b[0m\u001b[40m  \u001b[0m\u001b[40m  \u001b[0m\n",
      "\u001b[H\u001b[2J\u001b[40m  \u001b[0m\u001b[40m  \u001b[0m\u001b[40m  \u001b[0m\u001b[40m  \u001b[0m\u001b[40m  \u001b[0m\u001b[40m  \u001b[0m\u001b[40m  \u001b[0m\u001b[40m  \u001b[0m\u001b[40m  \u001b[0m\u001b[40m  \u001b[0m\n",
      "\u001b[47m  \u001b[0m\u001b[47m  \u001b[0m\u001b[47m  \u001b[0m\u001b[47m  \u001b[0m\u001b[40m  \u001b[0m\u001b[40m  \u001b[0m\u001b[47m  \u001b[0m\u001b[47m  \u001b[0m\u001b[47m  \u001b[0m\u001b[47m  \u001b[0m\n",
      "\u001b[47m  \u001b[0m\u001b[47m  \u001b[0m\u001b[47m  \u001b[0m\u001b[47m  \u001b[0m\u001b[40m  \u001b[0m\u001b[40m  \u001b[0m\u001b[47m  \u001b[0m\u001b[47m  \u001b[0m\u001b[47m  \u001b[0m\u001b[47m  \u001b[0m\n",
      "\u001b[40m  \u001b[0m\u001b[40m  \u001b[0m\u001b[40m  \u001b[0m\u001b[40m  \u001b[0m\u001b[40m  \u001b[0m\u001b[40m  \u001b[0m\u001b[40m  \u001b[0m\u001b[40m  \u001b[0m\u001b[40m  \u001b[0m\u001b[40m  \u001b[0m\n",
      "\u001b[40m  \u001b[0m\u001b[40m  \u001b[0m\u001b[40m  \u001b[0m\u001b[40m  \u001b[0m\u001b[40m  \u001b[0m\u001b[40m  \u001b[0m\u001b[40m  \u001b[0m\u001b[40m  \u001b[0m\u001b[40m  \u001b[0m\u001b[40m  \u001b[0m\n",
      "\u001b[47m  \u001b[0m\u001b[40m  \u001b[0m\u001b[40m  \u001b[0m\u001b[47m  \u001b[0m\u001b[47m  \u001b[0m\u001b[47m  \u001b[0m\u001b[47m  \u001b[0m\u001b[40m  \u001b[0m\u001b[40m  \u001b[0m\u001b[47m  \u001b[0m\n",
      "\u001b[47m  \u001b[0m\u001b[40m  \u001b[0m\u001b[40m  \u001b[0m\u001b[47m  \u001b[0m\u001b[47m  \u001b[0m\u001b[47m  \u001b[0m\u001b[47m  \u001b[0m\u001b[40m  \u001b[0m\u001b[40m  \u001b[0m\u001b[47m  \u001b[0m\n",
      "\u001b[40m  \u001b[0m\u001b[40m  \u001b[0m\u001b[40m  \u001b[0m\u001b[40m  \u001b[0m\u001b[40m  \u001b[0m\u001b[40m  \u001b[0m\u001b[40m  \u001b[0m\u001b[40m  \u001b[0m\u001b[40m  \u001b[0m\u001b[40m  \u001b[0m\n",
      "\u001b[H\u001b[2J\u001b[40m  \u001b[0m\u001b[40m  \u001b[0m\u001b[40m  \u001b[0m\u001b[40m  \u001b[0m\u001b[40m  \u001b[0m\u001b[40m  \u001b[0m\u001b[40m  \u001b[0m\u001b[40m  \u001b[0m\u001b[40m  \u001b[0m\u001b[40m  \u001b[0m\n",
      "\u001b[47m  \u001b[0m\u001b[40m  \u001b[0m\u001b[40m  \u001b[0m\u001b[47m  \u001b[0m\u001b[47m  \u001b[0m\u001b[47m  \u001b[0m\u001b[47m  \u001b[0m\u001b[40m  \u001b[0m\u001b[40m  \u001b[0m\u001b[47m  \u001b[0m\n",
      "\u001b[47m  \u001b[0m\u001b[40m  \u001b[0m\u001b[40m  \u001b[0m\u001b[47m  \u001b[0m\u001b[47m  \u001b[0m\u001b[47m  \u001b[0m\u001b[47m  \u001b[0m\u001b[40m  \u001b[0m\u001b[40m  \u001b[0m\u001b[47m  \u001b[0m\n",
      "\u001b[40m  \u001b[0m\u001b[40m  \u001b[0m\u001b[40m  \u001b[0m\u001b[40m  \u001b[0m\u001b[40m  \u001b[0m\u001b[40m  \u001b[0m\u001b[40m  \u001b[0m\u001b[40m  \u001b[0m\u001b[40m  \u001b[0m\u001b[40m  \u001b[0m\n",
      "\u001b[40m  \u001b[0m\u001b[40m  \u001b[0m\u001b[40m  \u001b[0m\u001b[40m  \u001b[0m\u001b[40m  \u001b[0m\u001b[40m  \u001b[0m\u001b[40m  \u001b[0m\u001b[40m  \u001b[0m\u001b[40m  \u001b[0m\u001b[40m  \u001b[0m\n",
      "\u001b[47m  \u001b[0m\u001b[47m  \u001b[0m\u001b[47m  \u001b[0m\u001b[47m  \u001b[0m\u001b[40m  \u001b[0m\u001b[40m  \u001b[0m\u001b[47m  \u001b[0m\u001b[47m  \u001b[0m\u001b[47m  \u001b[0m\u001b[47m  \u001b[0m\n",
      "\u001b[47m  \u001b[0m\u001b[47m  \u001b[0m\u001b[47m  \u001b[0m\u001b[47m  \u001b[0m\u001b[40m  \u001b[0m\u001b[40m  \u001b[0m\u001b[47m  \u001b[0m\u001b[47m  \u001b[0m\u001b[47m  \u001b[0m\u001b[47m  \u001b[0m\n",
      "\u001b[40m  \u001b[0m\u001b[40m  \u001b[0m\u001b[40m  \u001b[0m\u001b[40m  \u001b[0m\u001b[40m  \u001b[0m\u001b[40m  \u001b[0m\u001b[40m  \u001b[0m\u001b[40m  \u001b[0m\u001b[40m  \u001b[0m\u001b[40m  \u001b[0m\n",
      "\u001b[H\u001b[2J\u001b[40m  \u001b[0m\u001b[40m  \u001b[0m\u001b[40m  \u001b[0m\u001b[40m  \u001b[0m\u001b[40m  \u001b[0m\u001b[40m  \u001b[0m\u001b[40m  \u001b[0m\u001b[40m  \u001b[0m\u001b[40m  \u001b[0m\u001b[40m  \u001b[0m\n",
      "\u001b[47m  \u001b[0m\u001b[47m  \u001b[0m\u001b[47m  \u001b[0m\u001b[47m  \u001b[0m\u001b[40m  \u001b[0m\u001b[40m  \u001b[0m\u001b[47m  \u001b[0m\u001b[47m  \u001b[0m\u001b[47m  \u001b[0m\u001b[47m  \u001b[0m\n",
      "\u001b[47m  \u001b[0m\u001b[47m  \u001b[0m\u001b[47m  \u001b[0m\u001b[47m  \u001b[0m\u001b[40m  \u001b[0m\u001b[40m  \u001b[0m\u001b[47m  \u001b[0m\u001b[47m  \u001b[0m\u001b[47m  \u001b[0m\u001b[47m  \u001b[0m\n",
      "\u001b[40m  \u001b[0m\u001b[40m  \u001b[0m\u001b[40m  \u001b[0m\u001b[40m  \u001b[0m\u001b[40m  \u001b[0m\u001b[40m  \u001b[0m\u001b[40m  \u001b[0m\u001b[40m  \u001b[0m\u001b[40m  \u001b[0m\u001b[40m  \u001b[0m\n",
      "\u001b[40m  \u001b[0m\u001b[40m  \u001b[0m\u001b[40m  \u001b[0m\u001b[40m  \u001b[0m\u001b[40m  \u001b[0m\u001b[40m  \u001b[0m\u001b[40m  \u001b[0m\u001b[40m  \u001b[0m\u001b[40m  \u001b[0m\u001b[40m  \u001b[0m\n",
      "\u001b[47m  \u001b[0m\u001b[40m  \u001b[0m\u001b[40m  \u001b[0m\u001b[47m  \u001b[0m\u001b[47m  \u001b[0m\u001b[47m  \u001b[0m\u001b[47m  \u001b[0m\u001b[40m  \u001b[0m\u001b[40m  \u001b[0m\u001b[47m  \u001b[0m\n",
      "\u001b[47m  \u001b[0m\u001b[40m  \u001b[0m\u001b[40m  \u001b[0m\u001b[47m  \u001b[0m\u001b[47m  \u001b[0m\u001b[47m  \u001b[0m\u001b[47m  \u001b[0m\u001b[40m  \u001b[0m\u001b[40m  \u001b[0m\u001b[47m  \u001b[0m\n",
      "\u001b[40m  \u001b[0m\u001b[40m  \u001b[0m\u001b[40m  \u001b[0m\u001b[40m  \u001b[0m\u001b[40m  \u001b[0m\u001b[40m  \u001b[0m\u001b[40m  \u001b[0m\u001b[40m  \u001b[0m\u001b[40m  \u001b[0m\u001b[40m  \u001b[0m\n",
      "\u001b[H\u001b[2J\u001b[40m  \u001b[0m\u001b[40m  \u001b[0m\u001b[40m  \u001b[0m\u001b[40m  \u001b[0m\u001b[40m  \u001b[0m\u001b[40m  \u001b[0m\u001b[40m  \u001b[0m\u001b[40m  \u001b[0m\u001b[40m  \u001b[0m\u001b[40m  \u001b[0m\n",
      "\u001b[47m  \u001b[0m\u001b[40m  \u001b[0m\u001b[40m  \u001b[0m\u001b[47m  \u001b[0m\u001b[47m  \u001b[0m\u001b[47m  \u001b[0m\u001b[47m  \u001b[0m\u001b[40m  \u001b[0m\u001b[40m  \u001b[0m\u001b[47m  \u001b[0m\n",
      "\u001b[47m  \u001b[0m\u001b[40m  \u001b[0m\u001b[40m  \u001b[0m\u001b[47m  \u001b[0m\u001b[47m  \u001b[0m\u001b[47m  \u001b[0m\u001b[47m  \u001b[0m\u001b[40m  \u001b[0m\u001b[40m  \u001b[0m\u001b[47m  \u001b[0m\n",
      "\u001b[40m  \u001b[0m\u001b[40m  \u001b[0m\u001b[40m  \u001b[0m\u001b[40m  \u001b[0m\u001b[40m  \u001b[0m\u001b[40m  \u001b[0m\u001b[40m  \u001b[0m\u001b[40m  \u001b[0m\u001b[40m  \u001b[0m\u001b[40m  \u001b[0m\n",
      "\u001b[40m  \u001b[0m\u001b[40m  \u001b[0m\u001b[40m  \u001b[0m\u001b[40m  \u001b[0m\u001b[40m  \u001b[0m\u001b[40m  \u001b[0m\u001b[40m  \u001b[0m\u001b[40m  \u001b[0m\u001b[40m  \u001b[0m\u001b[40m  \u001b[0m\n",
      "\u001b[47m  \u001b[0m\u001b[47m  \u001b[0m\u001b[47m  \u001b[0m\u001b[47m  \u001b[0m\u001b[40m  \u001b[0m\u001b[40m  \u001b[0m\u001b[47m  \u001b[0m\u001b[47m  \u001b[0m\u001b[47m  \u001b[0m\u001b[47m  \u001b[0m\n",
      "\u001b[47m  \u001b[0m\u001b[47m  \u001b[0m\u001b[47m  \u001b[0m\u001b[47m  \u001b[0m\u001b[40m  \u001b[0m\u001b[40m  \u001b[0m\u001b[47m  \u001b[0m\u001b[47m  \u001b[0m\u001b[47m  \u001b[0m\u001b[47m  \u001b[0m\n",
      "\u001b[40m  \u001b[0m\u001b[40m  \u001b[0m\u001b[40m  \u001b[0m\u001b[40m  \u001b[0m\u001b[40m  \u001b[0m\u001b[40m  \u001b[0m\u001b[40m  \u001b[0m\u001b[40m  \u001b[0m\u001b[40m  \u001b[0m\u001b[40m  \u001b[0m\n",
      "\u001b[H\u001b[2J\u001b[40m  \u001b[0m\u001b[40m  \u001b[0m\u001b[40m  \u001b[0m\u001b[40m  \u001b[0m\u001b[40m  \u001b[0m\u001b[40m  \u001b[0m\u001b[40m  \u001b[0m\u001b[40m  \u001b[0m\u001b[40m  \u001b[0m\u001b[40m  \u001b[0m\n",
      "\u001b[47m  \u001b[0m\u001b[47m  \u001b[0m\u001b[47m  \u001b[0m\u001b[47m  \u001b[0m\u001b[40m  \u001b[0m\u001b[40m  \u001b[0m\u001b[47m  \u001b[0m\u001b[47m  \u001b[0m\u001b[47m  \u001b[0m\u001b[47m  \u001b[0m\n",
      "\u001b[47m  \u001b[0m\u001b[47m  \u001b[0m\u001b[47m  \u001b[0m\u001b[47m  \u001b[0m\u001b[40m  \u001b[0m\u001b[40m  \u001b[0m\u001b[47m  \u001b[0m\u001b[47m  \u001b[0m\u001b[47m  \u001b[0m\u001b[47m  \u001b[0m\n",
      "\u001b[40m  \u001b[0m\u001b[40m  \u001b[0m\u001b[40m  \u001b[0m\u001b[40m  \u001b[0m\u001b[40m  \u001b[0m\u001b[40m  \u001b[0m\u001b[40m  \u001b[0m\u001b[40m  \u001b[0m\u001b[40m  \u001b[0m\u001b[40m  \u001b[0m\n",
      "\u001b[40m  \u001b[0m\u001b[40m  \u001b[0m\u001b[40m  \u001b[0m\u001b[40m  \u001b[0m\u001b[40m  \u001b[0m\u001b[40m  \u001b[0m\u001b[40m  \u001b[0m\u001b[40m  \u001b[0m\u001b[40m  \u001b[0m\u001b[40m  \u001b[0m\n",
      "\u001b[47m  \u001b[0m\u001b[40m  \u001b[0m\u001b[40m  \u001b[0m\u001b[47m  \u001b[0m\u001b[47m  \u001b[0m\u001b[47m  \u001b[0m\u001b[47m  \u001b[0m\u001b[40m  \u001b[0m\u001b[40m  \u001b[0m\u001b[47m  \u001b[0m\n",
      "\u001b[47m  \u001b[0m\u001b[40m  \u001b[0m\u001b[40m  \u001b[0m\u001b[47m  \u001b[0m\u001b[47m  \u001b[0m\u001b[47m  \u001b[0m\u001b[47m  \u001b[0m\u001b[40m  \u001b[0m\u001b[40m  \u001b[0m\u001b[47m  \u001b[0m\n",
      "\u001b[40m  \u001b[0m\u001b[40m  \u001b[0m\u001b[40m  \u001b[0m\u001b[40m  \u001b[0m\u001b[40m  \u001b[0m\u001b[40m  \u001b[0m\u001b[40m  \u001b[0m\u001b[40m  \u001b[0m\u001b[40m  \u001b[0m\u001b[40m  \u001b[0m\n",
      "\u001b[H\u001b[2J\u001b[40m  \u001b[0m\u001b[40m  \u001b[0m\u001b[40m  \u001b[0m\u001b[40m  \u001b[0m\u001b[40m  \u001b[0m\u001b[40m  \u001b[0m\u001b[40m  \u001b[0m\u001b[40m  \u001b[0m\u001b[40m  \u001b[0m\u001b[40m  \u001b[0m\n",
      "\u001b[47m  \u001b[0m\u001b[40m  \u001b[0m\u001b[40m  \u001b[0m\u001b[47m  \u001b[0m\u001b[47m  \u001b[0m\u001b[47m  \u001b[0m\u001b[47m  \u001b[0m\u001b[40m  \u001b[0m\u001b[40m  \u001b[0m\u001b[47m  \u001b[0m\n",
      "\u001b[47m  \u001b[0m\u001b[40m  \u001b[0m\u001b[40m  \u001b[0m\u001b[47m  \u001b[0m\u001b[47m  \u001b[0m\u001b[47m  \u001b[0m\u001b[47m  \u001b[0m\u001b[40m  \u001b[0m\u001b[40m  \u001b[0m\u001b[47m  \u001b[0m\n",
      "\u001b[40m  \u001b[0m\u001b[40m  \u001b[0m\u001b[40m  \u001b[0m\u001b[40m  \u001b[0m\u001b[40m  \u001b[0m\u001b[40m  \u001b[0m\u001b[40m  \u001b[0m\u001b[40m  \u001b[0m\u001b[40m  \u001b[0m\u001b[40m  \u001b[0m\n",
      "\u001b[40m  \u001b[0m\u001b[40m  \u001b[0m\u001b[40m  \u001b[0m\u001b[40m  \u001b[0m\u001b[40m  \u001b[0m\u001b[40m  \u001b[0m\u001b[40m  \u001b[0m\u001b[40m  \u001b[0m\u001b[40m  \u001b[0m\u001b[40m  \u001b[0m\n",
      "\u001b[47m  \u001b[0m\u001b[47m  \u001b[0m\u001b[47m  \u001b[0m\u001b[47m  \u001b[0m\u001b[40m  \u001b[0m\u001b[40m  \u001b[0m\u001b[47m  \u001b[0m\u001b[47m  \u001b[0m\u001b[47m  \u001b[0m\u001b[47m  \u001b[0m\n",
      "\u001b[47m  \u001b[0m\u001b[47m  \u001b[0m\u001b[47m  \u001b[0m\u001b[47m  \u001b[0m\u001b[40m  \u001b[0m\u001b[40m  \u001b[0m\u001b[47m  \u001b[0m\u001b[47m  \u001b[0m\u001b[47m  \u001b[0m\u001b[47m  \u001b[0m\n",
      "\u001b[40m  \u001b[0m\u001b[40m  \u001b[0m\u001b[40m  \u001b[0m\u001b[40m  \u001b[0m\u001b[40m  \u001b[0m\u001b[40m  \u001b[0m\u001b[40m  \u001b[0m\u001b[40m  \u001b[0m\u001b[40m  \u001b[0m\u001b[40m  \u001b[0m\n",
      "\u001b[H\u001b[2J\u001b[40m  \u001b[0m\u001b[40m  \u001b[0m\u001b[40m  \u001b[0m\u001b[40m  \u001b[0m\u001b[40m  \u001b[0m\u001b[40m  \u001b[0m\u001b[40m  \u001b[0m\u001b[40m  \u001b[0m\u001b[40m  \u001b[0m\u001b[40m  \u001b[0m\n",
      "\u001b[47m  \u001b[0m\u001b[47m  \u001b[0m\u001b[47m  \u001b[0m\u001b[47m  \u001b[0m\u001b[40m  \u001b[0m\u001b[40m  \u001b[0m\u001b[47m  \u001b[0m\u001b[47m  \u001b[0m\u001b[47m  \u001b[0m\u001b[47m  \u001b[0m\n",
      "\u001b[47m  \u001b[0m\u001b[47m  \u001b[0m\u001b[47m  \u001b[0m\u001b[47m  \u001b[0m\u001b[40m  \u001b[0m\u001b[40m  \u001b[0m\u001b[47m  \u001b[0m\u001b[47m  \u001b[0m\u001b[47m  \u001b[0m\u001b[47m  \u001b[0m\n",
      "\u001b[40m  \u001b[0m\u001b[40m  \u001b[0m\u001b[40m  \u001b[0m\u001b[40m  \u001b[0m\u001b[40m  \u001b[0m\u001b[40m  \u001b[0m\u001b[40m  \u001b[0m\u001b[40m  \u001b[0m\u001b[40m  \u001b[0m\u001b[40m  \u001b[0m\n",
      "\u001b[40m  \u001b[0m\u001b[40m  \u001b[0m\u001b[40m  \u001b[0m\u001b[40m  \u001b[0m\u001b[40m  \u001b[0m\u001b[40m  \u001b[0m\u001b[40m  \u001b[0m\u001b[40m  \u001b[0m\u001b[40m  \u001b[0m\u001b[40m  \u001b[0m\n",
      "\u001b[47m  \u001b[0m\u001b[40m  \u001b[0m\u001b[40m  \u001b[0m\u001b[47m  \u001b[0m\u001b[47m  \u001b[0m\u001b[47m  \u001b[0m\u001b[47m  \u001b[0m\u001b[40m  \u001b[0m\u001b[40m  \u001b[0m\u001b[47m  \u001b[0m\n",
      "\u001b[47m  \u001b[0m\u001b[40m  \u001b[0m\u001b[40m  \u001b[0m\u001b[47m  \u001b[0m\u001b[47m  \u001b[0m\u001b[47m  \u001b[0m\u001b[47m  \u001b[0m\u001b[40m  \u001b[0m\u001b[40m  \u001b[0m\u001b[47m  \u001b[0m\n",
      "\u001b[40m  \u001b[0m\u001b[40m  \u001b[0m\u001b[40m  \u001b[0m\u001b[40m  \u001b[0m\u001b[40m  \u001b[0m\u001b[40m  \u001b[0m\u001b[40m  \u001b[0m\u001b[40m  \u001b[0m\u001b[40m  \u001b[0m\u001b[40m  \u001b[0m\n",
      "\u001b[H\u001b[2J\u001b[40m  \u001b[0m\u001b[40m  \u001b[0m\u001b[40m  \u001b[0m\u001b[40m  \u001b[0m\u001b[40m  \u001b[0m\u001b[40m  \u001b[0m\u001b[40m  \u001b[0m\u001b[40m  \u001b[0m\u001b[40m  \u001b[0m\u001b[40m  \u001b[0m\n",
      "\u001b[47m  \u001b[0m\u001b[40m  \u001b[0m\u001b[40m  \u001b[0m\u001b[47m  \u001b[0m\u001b[47m  \u001b[0m\u001b[47m  \u001b[0m\u001b[47m  \u001b[0m\u001b[40m  \u001b[0m\u001b[40m  \u001b[0m\u001b[47m  \u001b[0m\n",
      "\u001b[47m  \u001b[0m\u001b[40m  \u001b[0m\u001b[40m  \u001b[0m\u001b[47m  \u001b[0m\u001b[47m  \u001b[0m\u001b[47m  \u001b[0m\u001b[47m  \u001b[0m\u001b[40m  \u001b[0m\u001b[40m  \u001b[0m\u001b[47m  \u001b[0m\n",
      "\u001b[40m  \u001b[0m\u001b[40m  \u001b[0m\u001b[40m  \u001b[0m\u001b[40m  \u001b[0m\u001b[40m  \u001b[0m\u001b[40m  \u001b[0m\u001b[40m  \u001b[0m\u001b[40m  \u001b[0m\u001b[40m  \u001b[0m\u001b[40m  \u001b[0m\n",
      "\u001b[40m  \u001b[0m\u001b[40m  \u001b[0m\u001b[40m  \u001b[0m\u001b[40m  \u001b[0m\u001b[40m  \u001b[0m\u001b[40m  \u001b[0m\u001b[40m  \u001b[0m\u001b[40m  \u001b[0m\u001b[40m  \u001b[0m\u001b[40m  \u001b[0m\n",
      "\u001b[47m  \u001b[0m\u001b[47m  \u001b[0m\u001b[47m  \u001b[0m\u001b[47m  \u001b[0m\u001b[40m  \u001b[0m\u001b[40m  \u001b[0m\u001b[47m  \u001b[0m\u001b[47m  \u001b[0m\u001b[47m  \u001b[0m\u001b[47m  \u001b[0m\n",
      "\u001b[47m  \u001b[0m\u001b[47m  \u001b[0m\u001b[47m  \u001b[0m\u001b[47m  \u001b[0m\u001b[40m  \u001b[0m\u001b[40m  \u001b[0m\u001b[47m  \u001b[0m\u001b[47m  \u001b[0m\u001b[47m  \u001b[0m\u001b[47m  \u001b[0m\n",
      "\u001b[40m  \u001b[0m\u001b[40m  \u001b[0m\u001b[40m  \u001b[0m\u001b[40m  \u001b[0m\u001b[40m  \u001b[0m\u001b[40m  \u001b[0m\u001b[40m  \u001b[0m\u001b[40m  \u001b[0m\u001b[40m  \u001b[0m\u001b[40m  \u001b[0m\n",
      "\u001b[H\u001b[2J\u001b[40m  \u001b[0m\u001b[40m  \u001b[0m\u001b[40m  \u001b[0m\u001b[40m  \u001b[0m\u001b[40m  \u001b[0m\u001b[40m  \u001b[0m\u001b[40m  \u001b[0m\u001b[40m  \u001b[0m\u001b[40m  \u001b[0m\u001b[40m  \u001b[0m\n",
      "\u001b[47m  \u001b[0m\u001b[47m  \u001b[0m\u001b[47m  \u001b[0m\u001b[47m  \u001b[0m\u001b[40m  \u001b[0m\u001b[40m  \u001b[0m\u001b[47m  \u001b[0m\u001b[47m  \u001b[0m\u001b[47m  \u001b[0m\u001b[47m  \u001b[0m\n",
      "\u001b[47m  \u001b[0m\u001b[47m  \u001b[0m\u001b[47m  \u001b[0m\u001b[47m  \u001b[0m\u001b[40m  \u001b[0m\u001b[40m  \u001b[0m\u001b[47m  \u001b[0m\u001b[47m  \u001b[0m\u001b[47m  \u001b[0m\u001b[47m  \u001b[0m\n",
      "\u001b[40m  \u001b[0m\u001b[40m  \u001b[0m\u001b[40m  \u001b[0m\u001b[40m  \u001b[0m\u001b[40m  \u001b[0m\u001b[40m  \u001b[0m\u001b[40m  \u001b[0m\u001b[40m  \u001b[0m\u001b[40m  \u001b[0m\u001b[40m  \u001b[0m\n",
      "\u001b[40m  \u001b[0m\u001b[40m  \u001b[0m\u001b[40m  \u001b[0m\u001b[40m  \u001b[0m\u001b[40m  \u001b[0m\u001b[40m  \u001b[0m\u001b[40m  \u001b[0m\u001b[40m  \u001b[0m\u001b[40m  \u001b[0m\u001b[40m  \u001b[0m\n",
      "\u001b[47m  \u001b[0m\u001b[40m  \u001b[0m\u001b[40m  \u001b[0m\u001b[47m  \u001b[0m\u001b[47m  \u001b[0m\u001b[47m  \u001b[0m\u001b[47m  \u001b[0m\u001b[40m  \u001b[0m\u001b[40m  \u001b[0m\u001b[47m  \u001b[0m\n",
      "\u001b[47m  \u001b[0m\u001b[40m  \u001b[0m\u001b[40m  \u001b[0m\u001b[47m  \u001b[0m\u001b[47m  \u001b[0m\u001b[47m  \u001b[0m\u001b[47m  \u001b[0m\u001b[40m  \u001b[0m\u001b[40m  \u001b[0m\u001b[47m  \u001b[0m\n",
      "\u001b[40m  \u001b[0m\u001b[40m  \u001b[0m\u001b[40m  \u001b[0m\u001b[40m  \u001b[0m\u001b[40m  \u001b[0m\u001b[40m  \u001b[0m\u001b[40m  \u001b[0m\u001b[40m  \u001b[0m\u001b[40m  \u001b[0m\u001b[40m  \u001b[0m\n"
     ]
    },
    {
     "ename": "KeyboardInterrupt",
     "evalue": "",
     "output_type": "error",
     "traceback": [
      "\u001b[0;31m---------------------------------------------------------------------------\u001b[0m",
      "\u001b[0;31mKeyboardInterrupt\u001b[0m                         Traceback (most recent call last)",
      "Cell \u001b[0;32mIn[64], line 25\u001b[0m\n\u001b[1;32m     23\u001b[0m actual \u001b[38;5;241m=\u001b[39m plot_list \u001b[38;5;241m+\u001b[39m mirror_plot \u001b[38;5;28;01mif\u001b[39;00m f \u001b[38;5;28;01melse\u001b[39;00m mirror_plot \u001b[38;5;241m+\u001b[39m plot_list\n\u001b[1;32m     24\u001b[0m f \u001b[38;5;241m=\u001b[39m \u001b[38;5;129;01mnot\u001b[39;00m f\n\u001b[0;32m---> 25\u001b[0m time\u001b[38;5;241m.\u001b[39msleep(\u001b[38;5;241m.5\u001b[39m)\n\u001b[1;32m     26\u001b[0m os\u001b[38;5;241m.\u001b[39msystem(\u001b[38;5;124m\"\u001b[39m\u001b[38;5;124mclear\u001b[39m\u001b[38;5;124m\"\u001b[39m)\n\u001b[1;32m     27\u001b[0m \u001b[38;5;28mprint\u001b[39m(make_image(actual))\n",
      "\u001b[0;31mKeyboardInterrupt\u001b[0m: "
     ]
    }
   ],
   "source": [
    "# Допзадание\n",
    "plot_list = [[0 for i in range(10)] for i in range(10)]\n",
    "exist = f'{BLACK}  {END}'\n",
    "not_exist = f'{WHITE}  {END}'\n",
    "\n",
    "for i in range(10):\n",
    "    if i in (0, 1, 4, 5, 8, 9):\n",
    "        plot_list[i] = [exist for i in range(10)]\n",
    "    elif i in (2, 3):\n",
    "        plot_list[i] = [not_exist for _ in range(4)] + [exist]\n",
    "        plot_list[i] = plot_list[i] + plot_list[i][::-1]\n",
    "    else:\n",
    "        plot_list[i] = [not_exist, exist, exist, not_exist, not_exist]\n",
    "        plot_list[i] = plot_list[i] + plot_list[i][::-1]\n",
    "\n",
    "mirror_plot = plot_list[5:-1]\n",
    "plot_list = plot_list[1:5]\n",
    "\n",
    "import os\n",
    "import time\n",
    "f = True\n",
    "while True:\n",
    "    actual = plot_list + mirror_plot if f else mirror_plot + plot_list\n",
    "    f = not f\n",
    "    time.sleep(.5)\n",
    "    os.system(\"clear\")\n",
    "    print(make_image(actual))\n"
   ]
  },
  {
   "cell_type": "markdown",
   "metadata": {},
   "source": [
    "### Задание № 3\n",
    "Сгенерировать в консоли график функции (1 четверти) при помощи escape-символов, минимум 9 строк в высоту (столбец \"Функция\")."
   ]
  },
  {
   "cell_type": "code",
   "execution_count": 65,
   "metadata": {},
   "outputs": [
    {
     "name": "stdout",
     "output_type": "stream",
     "text": [
      "\t\t↑ y\n",
      "\t2.997\t│--------------!!!!\n",
      "\t2.664\t│----------!!!!!!--\n",
      "\t2.331\t│------!!!!!!!!----\n",
      "\t1.998\t│----!!!!!!--------\n",
      "\t1.665\t│--!!!!------------\n",
      "\t1.332\t│!!!!--------------\n",
      "\t0.999\t│!!----------------\n",
      "\t0.666\t│------------------\n",
      "\t0.333\t│------------------\n",
      "\t\t└──────────────────→\n",
      "\t0\t1 2 3 4 5 6 7 8 9  x\n"
     ]
    }
   ],
   "source": [
    "plot_list = [[0 for i in range(10)] for i in range(10)]\n",
    "result = []\n",
    "\n",
    "for i in range(10):\n",
    "    result.append(round(i ** 0.5, 3))\n",
    "\n",
    "step = round(abs(result[0] - result[9]) / 9, 3)\n",
    "\n",
    "for i in range(10):\n",
    "    for j in range(10):\n",
    "        if j == 0:\n",
    "            plot_list[i][j] = round(step * (8-i) + step, 3)\n",
    "\n",
    "for i in range(9):\n",
    "    for j in range(10):\n",
    "        if abs(plot_list[i][0] - result[9 - j]) < step:\n",
    "            for k in range(9):\n",
    "                if 8 - k == j:\n",
    "                    plot_list[i][k+1] = 1\n",
    "print('\\t\\t↑ y')\n",
    "for i in range(9):\n",
    "    line = ''\n",
    "    for j in range(10):\n",
    "        if j == 0:\n",
    "            line += '\\t' + str(plot_list[i][j]) + '\\t│'\n",
    "        if plot_list[i][j] == 0:\n",
    "            line += '--'\n",
    "        if plot_list[i][j] == 1:\n",
    "            line += '!!'\n",
    "    print(line)\n",
    "print('\\t\\t└' + '─' * 18 + '→')\n",
    "print('\\t0\\t1 2 3 4 5 6 7 8 9  x')"
   ]
  },
  {
   "cell_type": "markdown",
   "metadata": {},
   "source": [
    "### Задание № 4\n",
    "Используя прилагаемый файл с числовой последовательностью sequence.txt, вывести диаграмму процентного соотношения согласно варианту."
   ]
  },
  {
   "cell_type": "code",
   "execution_count": 91,
   "metadata": {},
   "outputs": [
    {
     "data": {
      "application/vnd.plotly.v1+json": {
       "config": {
        "plotlyServerURL": "https://plot.ly"
       },
       "data": [
        {
         "domain": {
          "x": [
           0,
           1
          ],
          "y": [
           0,
           1
          ]
         },
         "hole": 0.05,
         "hovertemplate": "label=%{label}<br>value=%{value}<extra></extra>",
         "labels": [
          "Первые 125 чисел",
          "Вторые 125 чисел"
         ],
         "legendgroup": "",
         "name": "",
         "showlegend": true,
         "type": "pie",
         "values": [
          4.86,
          5.15
         ]
        }
       ],
       "layout": {
        "legend": {
         "tracegroupgap": 0
        },
        "piecolorway": [
         "#ccd5ae",
         "#e9edc9"
        ],
        "template": {
         "data": {
          "bar": [
           {
            "error_x": {
             "color": "#2a3f5f"
            },
            "error_y": {
             "color": "#2a3f5f"
            },
            "marker": {
             "line": {
              "color": "#E5ECF6",
              "width": 0.5
             },
             "pattern": {
              "fillmode": "overlay",
              "size": 10,
              "solidity": 0.2
             }
            },
            "type": "bar"
           }
          ],
          "barpolar": [
           {
            "marker": {
             "line": {
              "color": "#E5ECF6",
              "width": 0.5
             },
             "pattern": {
              "fillmode": "overlay",
              "size": 10,
              "solidity": 0.2
             }
            },
            "type": "barpolar"
           }
          ],
          "carpet": [
           {
            "aaxis": {
             "endlinecolor": "#2a3f5f",
             "gridcolor": "white",
             "linecolor": "white",
             "minorgridcolor": "white",
             "startlinecolor": "#2a3f5f"
            },
            "baxis": {
             "endlinecolor": "#2a3f5f",
             "gridcolor": "white",
             "linecolor": "white",
             "minorgridcolor": "white",
             "startlinecolor": "#2a3f5f"
            },
            "type": "carpet"
           }
          ],
          "choropleth": [
           {
            "colorbar": {
             "outlinewidth": 0,
             "ticks": ""
            },
            "type": "choropleth"
           }
          ],
          "contour": [
           {
            "colorbar": {
             "outlinewidth": 0,
             "ticks": ""
            },
            "colorscale": [
             [
              0,
              "#0d0887"
             ],
             [
              0.1111111111111111,
              "#46039f"
             ],
             [
              0.2222222222222222,
              "#7201a8"
             ],
             [
              0.3333333333333333,
              "#9c179e"
             ],
             [
              0.4444444444444444,
              "#bd3786"
             ],
             [
              0.5555555555555556,
              "#d8576b"
             ],
             [
              0.6666666666666666,
              "#ed7953"
             ],
             [
              0.7777777777777778,
              "#fb9f3a"
             ],
             [
              0.8888888888888888,
              "#fdca26"
             ],
             [
              1,
              "#f0f921"
             ]
            ],
            "type": "contour"
           }
          ],
          "contourcarpet": [
           {
            "colorbar": {
             "outlinewidth": 0,
             "ticks": ""
            },
            "type": "contourcarpet"
           }
          ],
          "heatmap": [
           {
            "colorbar": {
             "outlinewidth": 0,
             "ticks": ""
            },
            "colorscale": [
             [
              0,
              "#0d0887"
             ],
             [
              0.1111111111111111,
              "#46039f"
             ],
             [
              0.2222222222222222,
              "#7201a8"
             ],
             [
              0.3333333333333333,
              "#9c179e"
             ],
             [
              0.4444444444444444,
              "#bd3786"
             ],
             [
              0.5555555555555556,
              "#d8576b"
             ],
             [
              0.6666666666666666,
              "#ed7953"
             ],
             [
              0.7777777777777778,
              "#fb9f3a"
             ],
             [
              0.8888888888888888,
              "#fdca26"
             ],
             [
              1,
              "#f0f921"
             ]
            ],
            "type": "heatmap"
           }
          ],
          "heatmapgl": [
           {
            "colorbar": {
             "outlinewidth": 0,
             "ticks": ""
            },
            "colorscale": [
             [
              0,
              "#0d0887"
             ],
             [
              0.1111111111111111,
              "#46039f"
             ],
             [
              0.2222222222222222,
              "#7201a8"
             ],
             [
              0.3333333333333333,
              "#9c179e"
             ],
             [
              0.4444444444444444,
              "#bd3786"
             ],
             [
              0.5555555555555556,
              "#d8576b"
             ],
             [
              0.6666666666666666,
              "#ed7953"
             ],
             [
              0.7777777777777778,
              "#fb9f3a"
             ],
             [
              0.8888888888888888,
              "#fdca26"
             ],
             [
              1,
              "#f0f921"
             ]
            ],
            "type": "heatmapgl"
           }
          ],
          "histogram": [
           {
            "marker": {
             "pattern": {
              "fillmode": "overlay",
              "size": 10,
              "solidity": 0.2
             }
            },
            "type": "histogram"
           }
          ],
          "histogram2d": [
           {
            "colorbar": {
             "outlinewidth": 0,
             "ticks": ""
            },
            "colorscale": [
             [
              0,
              "#0d0887"
             ],
             [
              0.1111111111111111,
              "#46039f"
             ],
             [
              0.2222222222222222,
              "#7201a8"
             ],
             [
              0.3333333333333333,
              "#9c179e"
             ],
             [
              0.4444444444444444,
              "#bd3786"
             ],
             [
              0.5555555555555556,
              "#d8576b"
             ],
             [
              0.6666666666666666,
              "#ed7953"
             ],
             [
              0.7777777777777778,
              "#fb9f3a"
             ],
             [
              0.8888888888888888,
              "#fdca26"
             ],
             [
              1,
              "#f0f921"
             ]
            ],
            "type": "histogram2d"
           }
          ],
          "histogram2dcontour": [
           {
            "colorbar": {
             "outlinewidth": 0,
             "ticks": ""
            },
            "colorscale": [
             [
              0,
              "#0d0887"
             ],
             [
              0.1111111111111111,
              "#46039f"
             ],
             [
              0.2222222222222222,
              "#7201a8"
             ],
             [
              0.3333333333333333,
              "#9c179e"
             ],
             [
              0.4444444444444444,
              "#bd3786"
             ],
             [
              0.5555555555555556,
              "#d8576b"
             ],
             [
              0.6666666666666666,
              "#ed7953"
             ],
             [
              0.7777777777777778,
              "#fb9f3a"
             ],
             [
              0.8888888888888888,
              "#fdca26"
             ],
             [
              1,
              "#f0f921"
             ]
            ],
            "type": "histogram2dcontour"
           }
          ],
          "mesh3d": [
           {
            "colorbar": {
             "outlinewidth": 0,
             "ticks": ""
            },
            "type": "mesh3d"
           }
          ],
          "parcoords": [
           {
            "line": {
             "colorbar": {
              "outlinewidth": 0,
              "ticks": ""
             }
            },
            "type": "parcoords"
           }
          ],
          "pie": [
           {
            "automargin": true,
            "type": "pie"
           }
          ],
          "scatter": [
           {
            "fillpattern": {
             "fillmode": "overlay",
             "size": 10,
             "solidity": 0.2
            },
            "type": "scatter"
           }
          ],
          "scatter3d": [
           {
            "line": {
             "colorbar": {
              "outlinewidth": 0,
              "ticks": ""
             }
            },
            "marker": {
             "colorbar": {
              "outlinewidth": 0,
              "ticks": ""
             }
            },
            "type": "scatter3d"
           }
          ],
          "scattercarpet": [
           {
            "marker": {
             "colorbar": {
              "outlinewidth": 0,
              "ticks": ""
             }
            },
            "type": "scattercarpet"
           }
          ],
          "scattergeo": [
           {
            "marker": {
             "colorbar": {
              "outlinewidth": 0,
              "ticks": ""
             }
            },
            "type": "scattergeo"
           }
          ],
          "scattergl": [
           {
            "marker": {
             "colorbar": {
              "outlinewidth": 0,
              "ticks": ""
             }
            },
            "type": "scattergl"
           }
          ],
          "scattermapbox": [
           {
            "marker": {
             "colorbar": {
              "outlinewidth": 0,
              "ticks": ""
             }
            },
            "type": "scattermapbox"
           }
          ],
          "scatterpolar": [
           {
            "marker": {
             "colorbar": {
              "outlinewidth": 0,
              "ticks": ""
             }
            },
            "type": "scatterpolar"
           }
          ],
          "scatterpolargl": [
           {
            "marker": {
             "colorbar": {
              "outlinewidth": 0,
              "ticks": ""
             }
            },
            "type": "scatterpolargl"
           }
          ],
          "scatterternary": [
           {
            "marker": {
             "colorbar": {
              "outlinewidth": 0,
              "ticks": ""
             }
            },
            "type": "scatterternary"
           }
          ],
          "surface": [
           {
            "colorbar": {
             "outlinewidth": 0,
             "ticks": ""
            },
            "colorscale": [
             [
              0,
              "#0d0887"
             ],
             [
              0.1111111111111111,
              "#46039f"
             ],
             [
              0.2222222222222222,
              "#7201a8"
             ],
             [
              0.3333333333333333,
              "#9c179e"
             ],
             [
              0.4444444444444444,
              "#bd3786"
             ],
             [
              0.5555555555555556,
              "#d8576b"
             ],
             [
              0.6666666666666666,
              "#ed7953"
             ],
             [
              0.7777777777777778,
              "#fb9f3a"
             ],
             [
              0.8888888888888888,
              "#fdca26"
             ],
             [
              1,
              "#f0f921"
             ]
            ],
            "type": "surface"
           }
          ],
          "table": [
           {
            "cells": {
             "fill": {
              "color": "#EBF0F8"
             },
             "line": {
              "color": "white"
             }
            },
            "header": {
             "fill": {
              "color": "#C8D4E3"
             },
             "line": {
              "color": "white"
             }
            },
            "type": "table"
           }
          ]
         },
         "layout": {
          "annotationdefaults": {
           "arrowcolor": "#2a3f5f",
           "arrowhead": 0,
           "arrowwidth": 1
          },
          "autotypenumbers": "strict",
          "coloraxis": {
           "colorbar": {
            "outlinewidth": 0,
            "ticks": ""
           }
          },
          "colorscale": {
           "diverging": [
            [
             0,
             "#8e0152"
            ],
            [
             0.1,
             "#c51b7d"
            ],
            [
             0.2,
             "#de77ae"
            ],
            [
             0.3,
             "#f1b6da"
            ],
            [
             0.4,
             "#fde0ef"
            ],
            [
             0.5,
             "#f7f7f7"
            ],
            [
             0.6,
             "#e6f5d0"
            ],
            [
             0.7,
             "#b8e186"
            ],
            [
             0.8,
             "#7fbc41"
            ],
            [
             0.9,
             "#4d9221"
            ],
            [
             1,
             "#276419"
            ]
           ],
           "sequential": [
            [
             0,
             "#0d0887"
            ],
            [
             0.1111111111111111,
             "#46039f"
            ],
            [
             0.2222222222222222,
             "#7201a8"
            ],
            [
             0.3333333333333333,
             "#9c179e"
            ],
            [
             0.4444444444444444,
             "#bd3786"
            ],
            [
             0.5555555555555556,
             "#d8576b"
            ],
            [
             0.6666666666666666,
             "#ed7953"
            ],
            [
             0.7777777777777778,
             "#fb9f3a"
            ],
            [
             0.8888888888888888,
             "#fdca26"
            ],
            [
             1,
             "#f0f921"
            ]
           ],
           "sequentialminus": [
            [
             0,
             "#0d0887"
            ],
            [
             0.1111111111111111,
             "#46039f"
            ],
            [
             0.2222222222222222,
             "#7201a8"
            ],
            [
             0.3333333333333333,
             "#9c179e"
            ],
            [
             0.4444444444444444,
             "#bd3786"
            ],
            [
             0.5555555555555556,
             "#d8576b"
            ],
            [
             0.6666666666666666,
             "#ed7953"
            ],
            [
             0.7777777777777778,
             "#fb9f3a"
            ],
            [
             0.8888888888888888,
             "#fdca26"
            ],
            [
             1,
             "#f0f921"
            ]
           ]
          },
          "colorway": [
           "#636efa",
           "#EF553B",
           "#00cc96",
           "#ab63fa",
           "#FFA15A",
           "#19d3f3",
           "#FF6692",
           "#B6E880",
           "#FF97FF",
           "#FECB52"
          ],
          "font": {
           "color": "#2a3f5f"
          },
          "geo": {
           "bgcolor": "white",
           "lakecolor": "white",
           "landcolor": "#E5ECF6",
           "showlakes": true,
           "showland": true,
           "subunitcolor": "white"
          },
          "hoverlabel": {
           "align": "left"
          },
          "hovermode": "closest",
          "mapbox": {
           "style": "light"
          },
          "paper_bgcolor": "white",
          "plot_bgcolor": "#E5ECF6",
          "polar": {
           "angularaxis": {
            "gridcolor": "white",
            "linecolor": "white",
            "ticks": ""
           },
           "bgcolor": "#E5ECF6",
           "radialaxis": {
            "gridcolor": "white",
            "linecolor": "white",
            "ticks": ""
           }
          },
          "scene": {
           "xaxis": {
            "backgroundcolor": "#E5ECF6",
            "gridcolor": "white",
            "gridwidth": 2,
            "linecolor": "white",
            "showbackground": true,
            "ticks": "",
            "zerolinecolor": "white"
           },
           "yaxis": {
            "backgroundcolor": "#E5ECF6",
            "gridcolor": "white",
            "gridwidth": 2,
            "linecolor": "white",
            "showbackground": true,
            "ticks": "",
            "zerolinecolor": "white"
           },
           "zaxis": {
            "backgroundcolor": "#E5ECF6",
            "gridcolor": "white",
            "gridwidth": 2,
            "linecolor": "white",
            "showbackground": true,
            "ticks": "",
            "zerolinecolor": "white"
           }
          },
          "shapedefaults": {
           "line": {
            "color": "#2a3f5f"
           }
          },
          "ternary": {
           "aaxis": {
            "gridcolor": "white",
            "linecolor": "white",
            "ticks": ""
           },
           "baxis": {
            "gridcolor": "white",
            "linecolor": "white",
            "ticks": ""
           },
           "bgcolor": "#E5ECF6",
           "caxis": {
            "gridcolor": "white",
            "linecolor": "white",
            "ticks": ""
           }
          },
          "title": {
           "x": 0.05
          },
          "xaxis": {
           "automargin": true,
           "gridcolor": "white",
           "linecolor": "white",
           "ticks": "",
           "title": {
            "standoff": 15
           },
           "zerolinecolor": "white",
           "zerolinewidth": 2
          },
          "yaxis": {
           "automargin": true,
           "gridcolor": "white",
           "linecolor": "white",
           "ticks": "",
           "title": {
            "standoff": 15
           },
           "zerolinecolor": "white",
           "zerolinewidth": 2
          }
         }
        },
        "title": {
         "text": "Процентное соотношение"
        }
       }
      }
     },
     "metadata": {},
     "output_type": "display_data"
    }
   ],
   "source": [
    "from plotly import graph_objects as go\n",
    "from plotly import express as px\n",
    "\n",
    "pallette = ['#ccd5ae', '#e9edc9']\n",
    "\n",
    "path = 'sequence.txt'\n",
    "with open(path, 'r') as f:\n",
    "    data = list(map(float, f.readlines()))\n",
    "\n",
    "data = [abs(i) for i in data]\n",
    "\n",
    "first = round(sum(data[:125]) / 125, 3)\n",
    "second = round(sum(data[125:]) / 125, 3)\n",
    "s = first + second\n",
    "\n",
    "first_percent = first / s * 100\n",
    "second_percent = second / s * 100\n",
    "\n",
    "fig = px.pie(\n",
    "    values=[first, second],\n",
    "    names=['Первые 125 чисел', 'Вторые 125 чисел'],\n",
    "    color_discrete_sequence=pallette,\n",
    "    hole=.05,\n",
    "    title='Процентное соотношение',\n",
    ")\n",
    "fig.show()\n"
   ]
  },
  {
   "cell_type": "markdown",
   "metadata": {},
   "source": []
  },
  {
   "cell_type": "code",
   "execution_count": null,
   "metadata": {},
   "outputs": [],
   "source": [
    "result = 8 * 15 * (8 + 42 + 7 * 6 * 5 + 7 * 6 * 5 * 4 + 7 * 6 * 5 * 4 + 7 * 6 * 5 * 4 * 3 + 7 * 6 * 5 * 4 * 3 * 2 + 7 * 6 * 5 * 4 * 3 * 2)\n",
    "print(result)"
   ]
  },
  {
   "cell_type": "code",
   "execution_count": 4,
   "metadata": {},
   "outputs": [
    {
     "name": "stdout",
     "output_type": "stream",
     "text": [
      "1863219\n"
     ]
    }
   ],
   "source": [
    "result = 8 * 17 * (8 + 42 + (7 * 6 * 5) + (7 * 6 * 5 * 4) + (7 * 6 * 5 * 4 * 3) + (7 * 6 * 5 * 4 * 3 * 2 )+ (7 * 6 * 5 * 4 * 3 * 2))\n",
    "print(result + 19)"
   ]
  }
 ],
 "metadata": {
  "kernelspec": {
   "display_name": "Python 3",
   "language": "python",
   "name": "python3"
  },
  "language_info": {
   "codemirror_mode": {
    "name": "ipython",
    "version": 3
   },
   "file_extension": ".py",
   "mimetype": "text/x-python",
   "name": "python",
   "nbconvert_exporter": "python",
   "pygments_lexer": "ipython3",
   "version": "3.11.3"
  }
 },
 "nbformat": 4,
 "nbformat_minor": 2
}
