{
 "cells": [
  {
   "cell_type": "code",
   "execution_count": 3,
   "metadata": {},
   "outputs": [],
   "source": [
    "from pprint import pprint\n",
    "import re"
   ]
  },
  {
   "cell_type": "markdown",
   "metadata": {},
   "source": [
    "# Лабораторная работа № 5\n",
    "## Вариант № 4\n",
    "\n",
    "\n",
    "### Задание № 1\n",
    "Откройте файл task1_ru.txt или task1_en.txt. Используя регулярные выражения, выполните задание для своего вариата из списка ниже:\n",
    "\n",
    "**Вариант 4. Все слова, в которых есть дефис; всю информацию в круглых скобках.**\n"
   ]
  },
  {
   "cell_type": "code",
   "execution_count": 7,
   "metadata": {},
   "outputs": [
    {
     "name": "stdout",
     "output_type": "stream",
     "text": [
      "Слова с дефисами:\n",
      "\n",
      "['Navier-Stokes',\n",
      " 'Taylor-scale',\n",
      " 'power-law',\n",
      " 'low-resolution',\n",
      " 'Gross-Pitaevskii',\n",
      " 'small-scale',\n",
      " 'non-Gaussian',\n",
      " 'exponential-like',\n",
      " 'self-similarity',\n",
      " 'power-law']\n"
     ]
    }
   ],
   "source": [
    "with open('./task1-en.txt', 'r') as f:\n",
    "    data = f.read()\n",
    "\n",
    "defis = re.findall(r'\\b\\w+-\\w+\\b', data)\n",
    "print('Слова с дефисами:\\n')\n",
    "pprint(defis[:10])"
   ]
  },
  {
   "cell_type": "code",
   "execution_count": 10,
   "metadata": {},
   "outputs": [
    {
     "name": "stdout",
     "output_type": "stream",
     "text": [
      "Слова в скобках:\n",
      "\n",
      "['(see Appendix C)',\n",
      " '(as may be found in quantum flows underpotation)',\n",
      " '(see Ref. [37])',\n",
      " '(data not shown)',\n",
      " '(multiples of the quantum of circulation κ)',\n",
      " '(PMF)',\n",
      " '(PDF)',\n",
      " '(a)',\n",
      " '(vortex cancellation is negligible at those scales)',\n",
      " '(continuous)']\n"
     ]
    }
   ],
   "source": [
    "skobki = re.findall(r'\\(.*?\\)', data)\n",
    "print('Слова в скобках:\\n')\n",
    "pprint(skobki[:10])"
   ]
  },
  {
   "cell_type": "markdown",
   "metadata": {},
   "source": [
    "### Задание № 2\n",
    "Откройте файл task2.html. Используя регулярные выражения, выполните задание для своего вариата из списка ниже:\n",
    "\n",
    "**Вариант 4. Все ссылки в домене ```.com```.**\n"
   ]
  },
  {
   "cell_type": "code",
   "execution_count": 14,
   "metadata": {},
   "outputs": [
    {
     "name": "stdout",
     "output_type": "stream",
     "text": [
      "Ссылки:\n",
      "\n",
      "['https://habr.com/kek/v1/auth/habrahabr/?back=/ru/feed/&amp;hl=ru',\n",
      " 'https://habr.com/kek/v1/auth//habrahabr/?back=/ru/feed/&amp;hl=ru',\n",
      " 'https://habr.com/kek/v1/auth//habrahabr-register/?back=/ru/feed/&amp;hl=ru',\n",
      " 'https://habr.com/ru/articles/841776/',\n",
      " 'https://www.ptsecurity.com/ru-ru/research/analytics/aktualnye-kiberugrozy-dlya-organizacij-itogi-2023-goda/',\n",
      " 'https://x.com/MistralAI/status/1833758285167722836',\n",
      " 'https://github.com/mistralai/mistral-common/pull/45',\n",
      " 'https://selectel.ru/?utm_source=habr.com&amp;utm_medium=referral&amp;utm_campaign=cloud_article_retro_110924_content',\n",
      " 'https://learn.microsoft.com/en-us/windows/release-health/windows-message-center#:~:text=8%20%D0%BE%D0%BA%D1%82%D1%8F%D0%B1%D1%80%D1%8F%202024,%D0%B8%20%D0%B7%D0%B4%D0%BE%D1%80%D0%BE%D0%B2%D1%8C%D1%8F%20%D1%8D%D0%BA%D0%BE%D1%81%D0%B8%D1%81%D1%82%D0%B5%D0%BC%D1%8B.',\n",
      " 'https://www.reuters.com/technology/apple-loses-fight-against-13-billion-euro-eu-tax-order-ireland-2024-09-10/']\n"
     ]
    }
   ],
   "source": [
    "with open('./task2.html', 'r', encoding='utf-8') as f:\n",
    "    data = f.read()\n",
    "\n",
    "links = re.compile(r'<a\\s+(?:[^>]*?\\s+)?href=\"([^\"]*\\.com[^\"]*)\"')\n",
    "links = links.findall(data)\n",
    "\n",
    "print('Ссылки:\\n')\n",
    "pprint(links[:10])"
   ]
  },
  {
   "cell_type": "markdown",
   "metadata": {},
   "source": [
    "### Задание № 3\n",
    "Откройте файл task3.txt. Здесь содержится таблица, состоящая из 5 полей: ID, фамилия, электронная почта, дата регистрации и сайт. Вот только пользователи вносили эти данные в абсолютно своём порядке, вследствие чего все данные перепутаны. Приведите эту базу данных в нормальный вид, расположив данные в вышеуказанном порядке. Для этого при помощи регулярных выражений выделите из файла данные каждого вида, составьте из них таблицу и сохраните как файл формата csv."
   ]
  },
  {
   "cell_type": "code",
   "execution_count": 68,
   "metadata": {},
   "outputs": [
    {
     "data": {
      "text/plain": [
       "6406"
      ]
     },
     "execution_count": 68,
     "metadata": {},
     "output_type": "execute_result"
    }
   ],
   "source": [
    "with open('./task3.txt', 'r', encoding='utf-8') as f:\n",
    "    data = f.read()\n",
    "\n",
    "idis = re.findall(r'\\b\\d{1,}\\b', data)\n",
    "surnames = re.findall(r\"\\b[A-Z][a-z]++(?:[A-Z][a-z]+)?\\b\", data)\n",
    "mails = re.findall(r\"\\b[A-Za-z0-9._%+-]+@[A-Za-z0-9.-]+\\.[A-Za-z]{2,}\\b\", data)\n",
    "dates = re.findall(r\"\\b\\d{4}\\-\\d{2}\\-\\d{2}\\b\", data)\n",
    "sites = re.findall(r\"\\b(?:https?://)?(?:www\\.)?[A-Za-z0-9.-]+\\.[A-Za-z]{2,}\\b\", data)\n",
    "\n",
    "mn = min(len(idis), len(surnames), len(mails), len(dates), len(sites))\n",
    "idis = idis[:mn]\n",
    "surnames = surnames[:mn]\n",
    "mails = mails[:mn]\n",
    "dates = dates[:mn]\n",
    "sites = sites[:mn]\n",
    "\n",
    "mn"
   ]
  },
  {
   "cell_type": "code",
   "execution_count": 86,
   "metadata": {},
   "outputs": [],
   "source": [
    "import pandas as pd\n",
    "\n",
    "data = pd.DataFrame()\n",
    "column = [idis, surnames, mails, dates, sites]\n",
    "names = ['ID', 'SURNAME', 'MAIL', 'DATE', 'SITE']\n",
    "arr = []\n",
    "for series, name in zip(column, names):\n",
    "    s = pd.Series(series, name=name)\n",
    "    # data = pd.concat([data, s.to_frame()])\n",
    "    arr.append(s)\n",
    "data = pd.DataFrame(arr).T\n"
   ]
  },
  {
   "cell_type": "code",
   "execution_count": 87,
   "metadata": {},
   "outputs": [
    {
     "name": "stdout",
     "output_type": "stream",
     "text": [
      "     ID    SURNAME                              MAIL        DATE   \n",
      "0     1   Callahan      urangel@espinoza-francis.net  2020-04-27  \\\n",
      "1  2020   Andersen           xreese@hall-donovan.com  2022-03-22   \n",
      "2    08      Ponce     haleybraun@blevins-sexton.com  2021-08-13   \n",
      "3   262  Mccormick              hohailey@anthony.com  2020-04-09   \n",
      "4  2020        Lee  alvaradojesse@rangel-shields.com  2021-04-02   \n",
      "\n",
      "                      SITE  \n",
      "0     espinoza-francis.net  \n",
      "1   http://www.escobar.org  \n",
      "2  https://tyler-pugh.info  \n",
      "3         hall-donovan.com  \n",
      "4       blevins-sexton.com  \n"
     ]
    }
   ],
   "source": [
    "print(data.head())"
   ]
  },
  {
   "cell_type": "code",
   "execution_count": 88,
   "metadata": {},
   "outputs": [],
   "source": [
    "data.to_csv('data.csv')"
   ]
  }
 ],
 "metadata": {
  "kernelspec": {
   "display_name": "Python 3",
   "language": "python",
   "name": "python3"
  },
  "language_info": {
   "codemirror_mode": {
    "name": "ipython",
    "version": 3
   },
   "file_extension": ".py",
   "mimetype": "text/x-python",
   "name": "python",
   "nbconvert_exporter": "python",
   "pygments_lexer": "ipython3",
   "version": "3.11.3"
  }
 },
 "nbformat": 4,
 "nbformat_minor": 2
}
